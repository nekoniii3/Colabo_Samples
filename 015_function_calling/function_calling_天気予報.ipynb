{
  "cells": [
    {
      "attachments": {},
      "cell_type": "markdown",
      "metadata": {
        "colab_type": "text",
        "id": "view-in-github"
      },
      "source": [
        "<a href=\"https://colab.research.google.com/github/nekoniii3/GPT_function_calling/blob/main/function_calling_%E5%A4%A9%E6%B0%97%E4%BA%88%E5%A0%B1.ipynb\" target=\"_parent\"><img src=\"https://colab.research.google.com/assets/colab-badge.svg\" alt=\"Open In Colab\"/></a>"
      ]
    },
    {
      "cell_type": "code",
      "execution_count": null,
      "metadata": {
        "id": "oJ1TkfVYf0Db"
      },
      "outputs": [],
      "source": [
        "# OpenAIパッケージのインストール\n",
        "!pip install openai"
      ]
    },
    {
      "cell_type": "code",
      "execution_count": null,
      "metadata": {
        "id": "9KvFObmAzPuS"
      },
      "outputs": [],
      "source": [
        "import openai\n",
        "\n",
        "openai.api_key = \"ここをOpenAIキーに入れ替えてください。\" #@param {type:\"string\"}\n"
      ]
    },
    {
      "cell_type": "code",
      "execution_count": null,
      "metadata": {
        "id": "Oo__urcz460Q"
      },
      "outputs": [],
      "source": [
        "import json\n",
        "import requests\n",
        "\n",
        "# get_weather_info：地域コードから今日の天気を返す関数（APIの詳細は\"https://weather.tsukumijima.net\"）\n",
        "def get_weather_info(city_code):\n",
        "\n",
        "    url = \"https://weather.tsukumijima.net/api/forecast/city/\" + str(city_code)\n",
        "\n",
        "    response = requests.get(url)\n",
        "    if response.status_code == 200:\n",
        "        data = response.json()\n",
        "        return json.dumps(data[\"forecasts\"])\n",
        "    else:\n",
        "        return None\n",
        "\n",
        "# Chat-GPTに伝えるための関数の仕様を記したのJSON\n",
        "weather_function =  {\n",
        "    \"name\": \"get_weather_info\",\n",
        "      \"description\": \"5桁の地区コード（一次細分区域）を元に天気予報を返す\",\n",
        "      \"parameters\": {\n",
        "          \"type\": \"object\",\n",
        "          \"properties\": {\n",
        "              \"city_code\": {\n",
        "                  \"type\": \"string\",\n",
        "                  \"description\": \"地区コード5桁（一次細分区域）\"\n",
        "              },\n",
        "          },\n",
        "          \"required\": [\"city_code\"]\n",
        "      }\n",
        "}\n"
      ]
    },
    {
      "cell_type": "code",
      "execution_count": null,
      "metadata": {
        "id": "P6rrX88z88Fn"
      },
      "outputs": [],
      "source": [
        "# GPTへの問い合わせ ※たまにGPTが地域コード間違えるので注意\n",
        "prompt = \"東京の今日の天気は？\"\n",
        "\n",
        "response = openai.ChatCompletion.create(\n",
        "    model=\"gpt-3.5-turbo-0613\",\n",
        "    messages=[{\"role\": \"user\", \"content\": prompt}],\n",
        "    functions=[weather_function],\n",
        "    function_call=\"auto\",\n",
        ")\n",
        "\n",
        "# GPTからのレスポンス取得\n",
        "message = response[\"choices\"][0][\"message\"]\n",
        "\n",
        "# message内に\"function_call\"があるなら関数を実行し再びGPTへ問い合わせ\n",
        "if message.get(\"function_call\"):\n",
        "    function_name = message[\"function_call\"][\"name\"]\n",
        "    arguments=json.loads(message[\"function_call\"][\"arguments\"])\n",
        "    function_response = get_weather_info(\n",
        "        city_code=arguments.get(\"city_code\")\n",
        "    )\n",
        "    second_response = openai.ChatCompletion.create(\n",
        "        model=\"gpt-3.5-turbo-0613\",\n",
        "        messages=[\n",
        "            {\"role\": \"user\", \"content\": prompt},\n",
        "            message,\n",
        "            {\n",
        "                \"role\": \"function\",\n",
        "                \"name\": function_name,\n",
        "                \"content\": function_response,\n",
        "            },\n",
        "        ],\n",
        "    )\n",
        "\n",
        "    # GPTからの回答を出力\n",
        "    print(second_response.choices[0][\"message\"][\"content\"])"
      ]
    }
  ],
  "metadata": {
    "colab": {
      "include_colab_link": true,
      "provenance": []
    },
    "kernelspec": {
      "display_name": "Python 3",
      "name": "python3"
    },
    "language_info": {
      "name": "python"
    }
  },
  "nbformat": 4,
  "nbformat_minor": 0
}
