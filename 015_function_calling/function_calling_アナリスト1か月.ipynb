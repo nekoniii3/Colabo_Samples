{
  "nbformat": 4,
  "nbformat_minor": 0,
  "metadata": {
    "colab": {
      "provenance": [],
      "include_colab_link": true
    },
    "kernelspec": {
      "name": "python3",
      "display_name": "Python 3"
    },
    "language_info": {
      "name": "python"
    }
  },
  "cells": [
    {
      "cell_type": "markdown",
      "metadata": {
        "id": "view-in-github",
        "colab_type": "text"
      },
      "source": [
        "<a href=\"https://colab.research.google.com/github/nekoniii3/GPT_function_calling/blob/main/function_calling_%E3%82%A2%E3%83%8A%E3%83%AA%E3%82%B9%E3%83%881%E3%81%8B%E6%9C%88.ipynb\" target=\"_parent\"><img src=\"https://colab.research.google.com/assets/colab-badge.svg\" alt=\"Open In Colab\"/></a>"
      ]
    },
    {
      "cell_type": "code",
      "execution_count": null,
      "metadata": {
        "id": "oJ1TkfVYf0Db"
      },
      "outputs": [],
      "source": [
        "# OpenAIパッケージのインストール\n",
        "!pip install openai"
      ]
    },
    {
      "cell_type": "code",
      "source": [
        "import openai\n",
        "\n",
        "openai.api_key = \"ここをOpenAIキーに入れ替えてください。\" #@param {type:\"string\"}\n"
      ],
      "metadata": {
        "id": "9KvFObmAzPuS"
      },
      "execution_count": null,
      "outputs": []
    },
    {
      "cell_type": "code",
      "source": [
        "import pandas_datareader.data as web\n",
        "\n",
        "# DataReaderでstooqから株価情報を取得する関数（開始日～終了日）\n",
        "def get_stock_price(code, date_from ,date_to):\n",
        "\n",
        "  # 日本用のコードに変換\n",
        "  code = code + '.JP'\n",
        "\n",
        "  # stooqからデータ取得\n",
        "  df = web.DataReader(code, data_source='stooq', start=date_from,end=date_to)\n",
        "\n",
        "  # 日付と株価の終値を返す ※日付形式がおかしくなるのでorient='table'を利用\n",
        "  return df['Close'].to_json(orient='table')\n",
        "\n",
        "# Chat-GPTに伝えるための関数の仕様を記したのJSON\n",
        "stock_function =  {\n",
        "    \"name\": \"get_stock_price\",\n",
        "      \"description\": \"証券コードと2つの日付を渡すと指定の会社のその2つの日付の間の株価の終値を返します\",\n",
        "      \"parameters\": {\n",
        "          \"type\": \"object\",\n",
        "          \"properties\": {\n",
        "              \"code\": {\n",
        "                  \"type\": \"string\",\n",
        "                  \"description\": \"証券コード\",\n",
        "              },\n",
        "              \"date_from\": {\n",
        "                  \"type\": \"string\",\n",
        "                  \"description\": \"株価を知りたい日付の開始日\",\n",
        "              },\n",
        "              \"date_to\": {\n",
        "                  \"type\": \"string\",\n",
        "                  \"description\": \"株価を知りたい日付の終了日\",\n",
        "              },\n",
        "          },\n",
        "          \"required\": [\"code\", \"date_from\", \"date_to\"],\n",
        "      },\n",
        "}\n"
      ],
      "metadata": {
        "id": "eskPRUWoPLS2"
      },
      "execution_count": null,
      "outputs": []
    },
    {
      "cell_type": "code",
      "source": [
        "import json\n",
        "\n",
        "# GPTへ1回目の問い合わせ\n",
        "prompt = 'カルビー株式会社の2023年6月の株価の情報と、その動きについて分析してください。'\n",
        "\n",
        "response = openai.ChatCompletion.create(\n",
        "    model=\"gpt-3.5-turbo-0613\",\n",
        "    messages=[{\"role\": \"system\", \"content\": \"You are a capable securities analyst.\"}\n",
        "     ,{\"role\": \"user\", \"content\": prompt}],\n",
        "    functions=[stock_function],\n",
        "    function_call=\"auto\",\n",
        ")\n",
        "\n",
        "message = response[\"choices\"][0][\"message\"]\n",
        "\n",
        "# 回答にfunction_callの指示があった場合\n",
        "if message.get(\"function_call\"):\n",
        "\n",
        "    # GPTの回答からget_stock_priceを実行\n",
        "    function_name = message[\"function_call\"][\"name\"]\n",
        "    arguments=json.loads(message[\"function_call\"][\"arguments\"])\n",
        "    function_response = get_stock_price(\n",
        "        code=arguments.get(\"code\"),\n",
        "        date_from=arguments.get(\"date_from\"),\n",
        "        date_to=arguments.get(\"date_to\")\n",
        "    )\n",
        "\n",
        "    # GPTへ2回目の問い合わせ\n",
        "    second_response = openai.ChatCompletion.create(\n",
        "        model=\"gpt-3.5-turbo-0613\",\n",
        "        messages=[\n",
        "            {\"role\": \"user\", \"content\": prompt},\n",
        "            message,\n",
        "            {\n",
        "                \"role\": \"function\",\n",
        "                \"name\": function_name,\n",
        "                \"content\": function_response,\n",
        "            },\n",
        "        ],\n",
        "    )\n",
        "\n",
        "    print(second_response.choices[0][\"message\"][\"content\"])"
      ],
      "metadata": {
        "id": "z7LUYbkSf-Xu"
      },
      "execution_count": null,
      "outputs": []
    }
  ]
}