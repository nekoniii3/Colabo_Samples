{
  "cells": [
    {
      "attachments": {},
      "cell_type": "markdown",
      "metadata": {
        "colab_type": "text",
        "id": "view-in-github"
      },
      "source": [
        "<a href=\"https://colab.research.google.com/github/nekoniii3/GPT_function_calling/blob/main/function_calling_%E3%82%A2%E3%83%8A%E3%83%AA%E3%82%B9%E3%83%88.ipynb\" target=\"_parent\"><img src=\"https://colab.research.google.com/assets/colab-badge.svg\" alt=\"Open In Colab\"/></a>"
      ]
    },
    {
      "cell_type": "code",
      "execution_count": null,
      "metadata": {
        "id": "bfCH-p2NE4IW"
      },
      "outputs": [],
      "source": [
        "# OpenAIパッケージのインストール\n",
        "!pip install openai"
      ]
    },
    {
      "cell_type": "code",
      "execution_count": null,
      "metadata": {
        "id": "9KvFObmAzPuS"
      },
      "outputs": [],
      "source": [
        "import openai\n",
        "\n",
        "openai.api_key = \"ここをOpenAIキーに入れ替えてください。\" #@param {type:\"string\"}\n"
      ]
    },
    {
      "cell_type": "code",
      "execution_count": null,
      "metadata": {
        "id": "n7kxh4imFN5p"
      },
      "outputs": [],
      "source": [
        "import pandas_datareader.data as web\n",
        "\n",
        "# DataReaderでstooqから株価情報を取得する関数\n",
        "def get_stock_price(code, date):\n",
        "\n",
        "  # 日本用のコードに変換\n",
        "  code = code + '.JP'\n",
        "\n",
        "  # DataReaderを利用しstooqからデータ取得\n",
        "  df = web.DataReader(code, data_source='stooq', start=date,end=date)\n",
        "\n",
        "  return df.to_json(orient='records')\n",
        "\n",
        "\n",
        "# Chat-GPTに伝えるための関数の仕様を記したのJSON\n",
        "stock_function =  {\n",
        "    \"name\": \"get_stock_price\",\n",
        "      \"description\": \"証券コードと日付を引数として指定の会社のその日付の株価の情報を返します\",\n",
        "      \"parameters\": {\n",
        "          \"type\": \"object\",\n",
        "          \"properties\": {\n",
        "              \"code\": {\n",
        "                  \"type\": \"string\",\n",
        "                  \"description\": \"証券コード\",\n",
        "              },\n",
        "              \"date\": {\n",
        "                  \"type\": \"string\",\n",
        "                  \"description\": \"株価を知りたい日付\",\n",
        "              },\n",
        "          },\n",
        "          \"required\": [\"code\", \"date\"],\n",
        "      },\n",
        "}\n"
      ]
    },
    {
      "cell_type": "code",
      "execution_count": null,
      "metadata": {
        "id": "2YYeKlxeS6aC"
      },
      "outputs": [],
      "source": [
        "# GPTへ1回目の問い合わせ ※証券コードをたまに間違えるので、確実にするには指定してください\n",
        "prompt = 'カルビー株式会社の2023年6月1日の株価の動きについて教えてください。'\n",
        "\n",
        "response = openai.ChatCompletion.create(\n",
        "    model=\"gpt-3.5-turbo-0613\",\n",
        "    messages=[{\"role\": \"system\", \"content\": \"You are a capable securities analyst.\"}\n",
        "     ,{\"role\": \"user\", \"content\": prompt}],\n",
        "    functions=[stock_function],\n",
        "    function_call=\"auto\"\n",
        ")\n",
        "\n",
        "# GPTから1回目の返答\n",
        "message = response[\"choices\"][0][\"message\"]\n",
        "\n",
        "# テスト出力\n",
        "print(message)\n"
      ]
    },
    {
      "cell_type": "code",
      "execution_count": null,
      "metadata": {
        "id": "P1T7vFo-TWLe"
      },
      "outputs": [],
      "source": [
        "import json\n",
        "\n",
        "# 回答にfunction_callの指示があった場合\n",
        "if message.get(\"function_call\"):\n",
        "\n",
        "  # GPTの回答からget_stock_priceを実行\n",
        "  function_name = message[\"function_call\"][\"name\"]\n",
        "  arguments=json.loads(message[\"function_call\"][\"arguments\"])\n",
        "  function_response = get_stock_price(\n",
        "      code=arguments.get(\"code\"),\n",
        "      date=arguments.get(\"date\")\n",
        "  )\n",
        "\n",
        "  # GPTへ2回目の問い合わせ\n",
        "  response2 = openai.ChatCompletion.create(\n",
        "      model=\"gpt-3.5-turbo-0613\",\n",
        "      messages=[{\"role\": \"system\", \"content\": \"You are a capable securities analyst.\"}\n",
        "          ,{\"role\": \"user\", \"content\": prompt},\n",
        "          message,\n",
        "          {\n",
        "              \"role\": \"function\",\n",
        "              \"name\": function_name,\n",
        "              \"content\": function_response,\n",
        "          },\n",
        "      ],\n",
        "  )\n",
        "\n",
        "  # GPTからの回答（contentのみ）\n",
        "  print(response2.choices[0][\"message\"][\"content\"])"
      ]
    }
  ],
  "metadata": {
    "colab": {
      "authorship_tag": "ABX9TyPmBGCzpoFyAjNdA64nk2M1",
      "include_colab_link": true,
      "provenance": []
    },
    "kernelspec": {
      "display_name": "Python 3",
      "name": "python3"
    },
    "language_info": {
      "name": "python"
    }
  },
  "nbformat": 4,
  "nbformat_minor": 0
}
