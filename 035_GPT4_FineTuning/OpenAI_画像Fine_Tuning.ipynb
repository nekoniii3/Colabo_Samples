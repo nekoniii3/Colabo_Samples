{
  "nbformat": 4,
  "nbformat_minor": 0,
  "metadata": {
    "colab": {
      "provenance": [],
      "authorship_tag": "ABX9TyN6w/vldOrdPw1Wf3sUsgx8",
      "include_colab_link": true
    },
    "kernelspec": {
      "name": "python3",
      "display_name": "Python 3"
    },
    "language_info": {
      "name": "python"
    }
  },
  "cells": [
    {
      "cell_type": "markdown",
      "metadata": {
        "id": "view-in-github",
        "colab_type": "text"
      },
      "source": [
        "<a href=\"https://colab.research.google.com/github/nekoniii3/Colabo_Samples/blob/main/035_GPT4_FineTuning/OpenAI_%E7%94%BB%E5%83%8FFine_Tuning.ipynb\" target=\"_parent\"><img src=\"https://colab.research.google.com/assets/colab-badge.svg\" alt=\"Open In Colab\"/></a>"
      ]
    },
    {
      "cell_type": "markdown",
      "source": [
        "# OpenAIインストール"
      ],
      "metadata": {
        "id": "9olDl1FpQTyN"
      }
    },
    {
      "cell_type": "code",
      "execution_count": null,
      "metadata": {
        "id": "izw96lQDMU_U"
      },
      "outputs": [],
      "source": [
        "!pip install openai -q"
      ]
    },
    {
      "cell_type": "markdown",
      "source": [
        "# APIキーのセットなど各種下準備"
      ],
      "metadata": {
        "id": "0FveoefMXJny"
      }
    },
    {
      "cell_type": "code",
      "source": [
        "import os\n",
        "import base64\n",
        "from openai import OpenAI\n",
        "\n",
        "from google.colab import userdata\n",
        "os.environ[\"OPENAI_API_KEY\"] = userdata.get(\"OPENAI_KEY\")\n",
        "# os.environ[\"OPENAI_API_KEY\"] = \"Enter \"OpenAI API Key\"    # 直接入力でも構いません\n",
        "\n",
        "# Function to encode the image\n",
        "def encode_image(image_path):\n",
        "  with open(image_path, \"rb\") as image_file:\n",
        "    return base64.b64encode(image_file.read()).decode('utf-8')"
      ],
      "metadata": {
        "id": "mk981_yMMrdH"
      },
      "execution_count": 2,
      "outputs": []
    },
    {
      "cell_type": "markdown",
      "source": [
        "# 画像ファイルアップ・解凍・データ取得"
      ],
      "metadata": {
        "id": "9ZireoVYQkiX"
      }
    },
    {
      "cell_type": "code",
      "source": [
        "# 画像を圧縮したZIPファイルをアップして下さい\n",
        "zip_name = \"FT_DATA.zip\"\n",
        "\n",
        "!unzip $zip_name"
      ],
      "metadata": {
        "id": "JTyJwMX1NDLv"
      },
      "execution_count": null,
      "outputs": []
    },
    {
      "cell_type": "code",
      "source": [
        "data_dir = \"/content/FT_DATA/\"\n",
        "\n",
        "# ファイル一覧を取得\n",
        "files = os.listdir(data_dir)\n",
        "\n",
        "files.sort()    # 並び替え"
      ],
      "metadata": {
        "id": "sfuaboPiNQZv"
      },
      "execution_count": 5,
      "outputs": []
    },
    {
      "cell_type": "code",
      "source": [
        "img_list = []\n",
        "\n",
        "for file in files:\n",
        "\n",
        "    img_list.append([file, encode_image(data_dir + file)])"
      ],
      "metadata": {
        "id": "0HgDaCd1Nyik"
      },
      "execution_count": 6,
      "outputs": []
    },
    {
      "cell_type": "markdown",
      "source": [
        "# 学習用データ（JSONL）出力"
      ],
      "metadata": {
        "id": "HJQznjNARFm4"
      }
    },
    {
      "cell_type": "code",
      "source": [
        "output = \"\"\n",
        "\n",
        "filename = \"pl_data_01.jsonl\"\n",
        "\n",
        "system_instruction = \"あなたは優秀なゲーム解説者です。\"\n",
        "user_question = \"この画像のキャラクターは何というゲームのキャラクターですか？\"\n",
        "\n",
        "for img_data in img_list:\n",
        "\n",
        "    chara_name = img_data[0].split(\".\")[0]\n",
        "\n",
        "    answer = f\"これは日本のゲーム「パルワールド」のキャラクターの「{chara_name}」です。\"\n",
        "\n",
        "    output += '{\"messages\": [{\"role\": \"system\", \"content\": \"' + system_instruction + '\"}, \\\n",
        "      {\"role\": \"user\", \"content\": \"'+ user_question +'\"}, \\\n",
        "      {\"role\": \"user\", \"content\": [ \\\n",
        "          { \\\n",
        "            \"type\": \"image_url\", \\\n",
        "            \"image_url\": { \\\n",
        "                \"url\": \"data:image/jpeg;base64,' + img_data[1] + '\" \\\n",
        "            } \\\n",
        "          } \\\n",
        "        ] \\\n",
        "       }, \\\n",
        "       {\"role\": \"assistant\", \"content\": \"' + answer + '\"} \\\n",
        "    ]}\\n'"
      ],
      "metadata": {
        "id": "fMjIjZt8OVn7"
      },
      "execution_count": 7,
      "outputs": []
    },
    {
      "cell_type": "code",
      "source": [
        "# ファイルとして出力\n",
        "with open(filename, \"w\") as file:\n",
        "    file.write(output)"
      ],
      "metadata": {
        "id": "W42zYHSOOotm"
      },
      "execution_count": 8,
      "outputs": []
    },
    {
      "cell_type": "markdown",
      "source": [
        "# 学習用データ（JSONL）のアップロード"
      ],
      "metadata": {
        "id": "YU3uHryhSxBW"
      }
    },
    {
      "cell_type": "code",
      "source": [
        "client = OpenAI()\n",
        "\n",
        "# 学習データのアップロード\n",
        "file_create = client.files.create(\n",
        "    file=open(filename, \"rb\"),\n",
        "    purpose=\"fine-tune\"\n",
        ")\n",
        "\n",
        "print(file_create.id)"
      ],
      "metadata": {
        "id": "ApW_9XoPO-Ll",
        "colab": {
          "base_uri": "https://localhost:8080/"
        },
        "outputId": "1539fc28-9855-436e-d19f-e2f4a843467d"
      },
      "execution_count": 9,
      "outputs": [
        {
          "output_type": "stream",
          "name": "stdout",
          "text": [
            "file-ryKToaRQEGdSctiu10uHbz6T\n"
          ]
        }
      ]
    },
    {
      "cell_type": "markdown",
      "source": [
        "# ファインチューニング実行"
      ],
      "metadata": {
        "id": "cTF6Gbq1S_cS"
      }
    },
    {
      "cell_type": "code",
      "source": [
        "file_id = file_create.id\n",
        "# file_id = \"…\"   # 直接指定しても構いません\n",
        "\n",
        "GPT_MODEL = \"gpt-4o-2024-08-06\"\n",
        "\n",
        "ftjob = client.fine_tuning.jobs.create(\n",
        "  training_file=file_id,\n",
        "  model=GPT_MODEL\n",
        ")"
      ],
      "metadata": {
        "id": "kinG7CxDPVrl"
      },
      "execution_count": 10,
      "outputs": []
    },
    {
      "cell_type": "markdown",
      "source": [
        "# ファインチューニング状況確認\n",
        "**※ダッシュボードでも確認できます<br>**\n",
        "https://platform.openai.com/finetune"
      ],
      "metadata": {
        "id": "PGhqHCVHTCkZ"
      }
    },
    {
      "cell_type": "code",
      "source": [
        "# ファインチューニング状況確認\n",
        "ftjob = client.fine_tuning.jobs.retrieve(ftjob.id)\n",
        "\n",
        "print(ftjob.status)"
      ],
      "metadata": {
        "id": "4JusXFz4Pfrr",
        "colab": {
          "base_uri": "https://localhost:8080/"
        },
        "outputId": "fc7e1941-fd07-4e8b-fb0d-a4eb7d3d95fb"
      },
      "execution_count": 14,
      "outputs": [
        {
          "output_type": "stream",
          "name": "stdout",
          "text": [
            "succeeded\n"
          ]
        }
      ]
    },
    {
      "cell_type": "markdown",
      "source": [
        "# 動作確認\n",
        "**※プレイグラウンドでも確認できます<br>**\n",
        "https://platform.openai.com/playground"
      ],
      "metadata": {
        "id": "lOufmlOTVVIx"
      }
    },
    {
      "cell_type": "code",
      "source": [
        "image_path = \"/content/FT_DATA/ツッパニャン.jpg\"\n",
        "\n",
        "base64_image = encode_image(image_path)"
      ],
      "metadata": {
        "id": "ZKlyWogNRwUg"
      },
      "execution_count": 18,
      "outputs": []
    },
    {
      "cell_type": "code",
      "source": [
        "model_name = ftjob.fine_tuned_model\n",
        "# model_name = \"ft:gpt-…\"   # モデル名指定\n",
        "\n",
        "response = client.chat.completions.create(\n",
        "    model=model_name,\n",
        "    messages=[\n",
        "      {\n",
        "        \"role\": \"user\",\n",
        "        \"content\": [\n",
        "          {\"type\": \"text\", \"text\": \"あなたはゲーム解説者です。この画像のキャラクターは何のキャラクターでしょうか？\"},\n",
        "          {\n",
        "            \"type\": \"image_url\",\n",
        "            \"image_url\": {\n",
        "              \"url\": f\"data:image/jpeg;base64,{base64_image}\"\n",
        "            },\n",
        "          },\n",
        "        ],\n",
        "      }\n",
        "    ],\n",
        ")\n",
        "\n",
        "print(response.choices[0].message.content)"
      ],
      "metadata": {
        "id": "B7Iui1_6r9Md"
      },
      "execution_count": null,
      "outputs": []
    }
  ]
}