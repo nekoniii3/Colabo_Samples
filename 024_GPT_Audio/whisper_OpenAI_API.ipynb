{
  "nbformat": 4,
  "nbformat_minor": 0,
  "metadata": {
    "colab": {
      "provenance": [],
      "include_colab_link": true
    },
    "kernelspec": {
      "name": "python3",
      "display_name": "Python 3"
    },
    "language_info": {
      "name": "python"
    }
  },
  "cells": [
    {
      "cell_type": "markdown",
      "metadata": {
        "id": "view-in-github",
        "colab_type": "text"
      },
      "source": [
        "<a href=\"https://colab.research.google.com/github/nekoniii3/Colabo_Samples/blob/main/024_GPT_Audio/whisper_OpenAI_API.ipynb\" target=\"_parent\"><img src=\"https://colab.research.google.com/assets/colab-badge.svg\" alt=\"Open In Colab\"/></a>"
      ]
    },
    {
      "cell_type": "markdown",
      "source": [
        "# **①OpenAIインストール**"
      ],
      "metadata": {
        "id": "-9Yzq9f3fayH"
      }
    },
    {
      "cell_type": "code",
      "execution_count": null,
      "metadata": {
        "id": "FHMhC6SWm48f"
      },
      "outputs": [],
      "source": [
        "!pip install openai"
      ]
    },
    {
      "cell_type": "markdown",
      "source": [
        "# **②OpenAI接続**"
      ],
      "metadata": {
        "id": "VnbE0bCRfgqP"
      }
    },
    {
      "cell_type": "code",
      "execution_count": null,
      "metadata": {
        "id": "beaeaXYaBmuY"
      },
      "outputs": [],
      "source": [
        "from openai import OpenAI\n",
        "import os\n",
        "\n",
        "# ここにOpenAI APIキーを設定\n",
        "os.environ[\"OPENAI_API_KEY\"] =  \"sk-XXXXXXXXXXXXXXXXXXXXXXXXXXXXXXXXXXX\"\n",
        "\n",
        "client = OpenAI()"
      ]
    },
    {
      "cell_type": "markdown",
      "source": [
        "# **③whisper実行**\n",
        "**※実行前に文字に起こすファイルをアップして下さい**"
      ],
      "metadata": {
        "id": "MngyKPQHfgvT"
      }
    },
    {
      "cell_type": "code",
      "source": [
        "# ここに文字に起こすファイルパスをセット（mp3, wav, mp4など）\n",
        "audio_file = \"サザエさんOP.mp3\"\n",
        "\n",
        "audio= open(audio_file, \"rb\")\n",
        "\n",
        "# whisperで処理\n",
        "transcript = client.audio.transcriptions.create(model=\"whisper-1\", file=audio, language = \"ja\")\n",
        "\n",
        "print(transcript)"
      ],
      "metadata": {
        "id": "9go42p1vL0CP"
      },
      "execution_count": null,
      "outputs": []
    },
    {
      "cell_type": "markdown",
      "source": [
        "# **④テキスト出力**"
      ],
      "metadata": {
        "id": "pzpu7aOqfgz5"
      }
    },
    {
      "cell_type": "code",
      "source": [
        "# テキスト名設定\n",
        "text_name = \"whisper_result.txt\"\n",
        "\n",
        "with open(text_name, mode=\"w\") as f:\n",
        "\n",
        "    # テキストに書き出す\n",
        "    f.write(transcript)"
      ],
      "metadata": {
        "id": "Ho2PM3aCfXJf"
      },
      "execution_count": null,
      "outputs": []
    }
  ]
}