{
  "nbformat": 4,
  "nbformat_minor": 0,
  "metadata": {
    "colab": {
      "provenance": [],
      "gpuType": "T4",
      "include_colab_link": true
    },
    "kernelspec": {
      "name": "python3",
      "display_name": "Python 3"
    },
    "language_info": {
      "name": "python"
    },
    "accelerator": "GPU"
  },
  "cells": [
    {
      "cell_type": "markdown",
      "metadata": {
        "id": "view-in-github",
        "colab_type": "text"
      },
      "source": [
        "<a href=\"https://colab.research.google.com/github/nekoniii3/Colabo_Samples/blob/main/024_GPT_Audio/whisper_large_v3.ipynb\" target=\"_parent\"><img src=\"https://colab.research.google.com/assets/colab-badge.svg\" alt=\"Open In Colab\"/></a>"
      ]
    },
    {
      "cell_type": "markdown",
      "source": [
        "# **⓪YouTubeの音声ダウンロード(MP3)**\n",
        "**※必要であればこちらで先に音声ファイルを作成して下さい**"
      ],
      "metadata": {
        "id": "GEt2McYWerYR"
      }
    },
    {
      "cell_type": "code",
      "source": [
        "# yt-dlpインストール\n",
        "!pip install yt-dlp"
      ],
      "metadata": {
        "id": "A4Hr0BehPqhD"
      },
      "execution_count": null,
      "outputs": []
    },
    {
      "cell_type": "code",
      "source": [
        "from yt_dlp import YoutubeDL\n",
        "\n",
        "# ファイル名・URL設定\n",
        "url = \"https://www.youtube.com/watch?v=NoF1aicoSvE\"\n",
        "mp3_name = \"サザエさんOP\"\n",
        "\n",
        "\n",
        "# フォーマット設定\n",
        "ydl_opts = {\n",
        "    'outtmpl': mp3_name,\n",
        "    \"format\": \"mp3/bestaudio/best\",\n",
        "    \"postprocessors\": [\n",
        "        {\n",
        "            \"key\": \"FFmpegExtractAudio\",\n",
        "            \"preferredcodec\": \"mp3\",\n",
        "        }\n",
        "    ],\n",
        "}\n",
        "\n",
        "# mp3に変換\n",
        "with YoutubeDL(ydl_opts) as ydl:\n",
        "    result = ydl.download([url])"
      ],
      "metadata": {
        "id": "mzZJpaBtPuvW"
      },
      "execution_count": null,
      "outputs": []
    },
    {
      "cell_type": "markdown",
      "source": [
        "# **①whisperインストール**"
      ],
      "metadata": {
        "id": "-9Yzq9f3fayH"
      }
    },
    {
      "cell_type": "code",
      "execution_count": null,
      "metadata": {
        "id": "PM-GPgbCICzz"
      },
      "outputs": [],
      "source": [
        "!pip install -U openai-whisper"
      ]
    },
    {
      "cell_type": "markdown",
      "source": [
        "# **②large-v3モデルダウンロード**"
      ],
      "metadata": {
        "id": "VnbE0bCRfgqP"
      }
    },
    {
      "cell_type": "code",
      "source": [
        "import whisper\n",
        "\n",
        "model_size = \"large-v3\"\n",
        "\n",
        "model = whisper.load_model(model_size)"
      ],
      "metadata": {
        "id": "94NY65NBIRYU"
      },
      "execution_count": null,
      "outputs": []
    },
    {
      "cell_type": "markdown",
      "source": [
        "# **③whisper実行**\n",
        "**※実行前に文字に起こすファイルをアップして下さい**"
      ],
      "metadata": {
        "id": "MngyKPQHfgvT"
      }
    },
    {
      "cell_type": "code",
      "source": [
        "# ここに文字に起こすファイルパスをセット（mp3, wav, mp4など）\n",
        "audio_file = \"サザエさんOP.mp3\"\n",
        "\n",
        "# whisperで処理\n",
        "result = model.transcribe(audio_file, language=\"ja\")\n",
        "\n",
        "print(result[\"text\"])"
      ],
      "metadata": {
        "id": "YUgs2UqL5Uxn"
      },
      "execution_count": null,
      "outputs": []
    },
    {
      "cell_type": "markdown",
      "source": [
        "# **④テキスト出力**"
      ],
      "metadata": {
        "id": "pzpu7aOqfgz5"
      }
    },
    {
      "cell_type": "code",
      "source": [
        "# テキスト名設定\n",
        "text_name = \"whisper_result.txt\"\n",
        "\n",
        "with open(text_name, mode=\"w\") as f:\n",
        "\n",
        "    # テキストに書き出す\n",
        "    f.write(result[\"text\"])"
      ],
      "metadata": {
        "id": "Ho2PM3aCfXJf"
      },
      "execution_count": null,
      "outputs": []
    }
  ]
}