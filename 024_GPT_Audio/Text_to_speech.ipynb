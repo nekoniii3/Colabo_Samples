{
  "nbformat": 4,
  "nbformat_minor": 0,
  "metadata": {
    "colab": {
      "provenance": [],
      "include_colab_link": true
    },
    "kernelspec": {
      "name": "python3",
      "display_name": "Python 3"
    },
    "language_info": {
      "name": "python"
    }
  },
  "cells": [
    {
      "cell_type": "markdown",
      "metadata": {
        "id": "view-in-github",
        "colab_type": "text"
      },
      "source": [
        "<a href=\"https://colab.research.google.com/github/nekoniii3/Colabo_Samples/blob/main/024_GPT_Audio/Text_to_speech.ipynb\" target=\"_parent\"><img src=\"https://colab.research.google.com/assets/colab-badge.svg\" alt=\"Open In Colab\"/></a>"
      ]
    },
    {
      "cell_type": "markdown",
      "source": [
        "# **①OpenAIインストール**"
      ],
      "metadata": {
        "id": "-9Yzq9f3fayH"
      }
    },
    {
      "cell_type": "code",
      "execution_count": null,
      "metadata": {
        "id": "FHMhC6SWm48f"
      },
      "outputs": [],
      "source": [
        "!pip install openai"
      ]
    },
    {
      "cell_type": "markdown",
      "source": [
        "# **②OpenAI接続**"
      ],
      "metadata": {
        "id": "VnbE0bCRfgqP"
      }
    },
    {
      "cell_type": "code",
      "execution_count": null,
      "metadata": {
        "id": "beaeaXYaBmuY"
      },
      "outputs": [],
      "source": [
        "from openai import OpenAI\n",
        "import os\n",
        "\n",
        "# ここにOpenAI APIキーをセット\n",
        "os.environ[\"OPENAI_API_KEY\"] =  \"sk-XXXXXXXXXXXXXXXXXXXXXXXXXXXXXXXXXXX\"\n",
        "\n",
        "client = OpenAI()"
      ]
    },
    {
      "cell_type": "markdown",
      "source": [
        "# **③ファイルをアップして読み込み**\n",
        "**※直接テキストを指定しても構いません**"
      ],
      "metadata": {
        "id": "OnnDGBnp6Cte"
      }
    },
    {
      "cell_type": "code",
      "source": [
        "text_file = \"桃太郎.txt\"\n",
        "\n",
        "with open(text_file) as f:\n",
        "    input_text = f.read()"
      ],
      "metadata": {
        "id": "D68BV_4wcNNM"
      },
      "execution_count": null,
      "outputs": []
    },
    {
      "cell_type": "markdown",
      "source": [
        "# **④音声変換（audio.speech.create）**"
      ],
      "metadata": {
        "id": "GzP4-6Sx6Qeq"
      }
    },
    {
      "cell_type": "code",
      "source": [
        "# 声の種類\n",
        "voice = \"nova\"\n",
        "\n",
        "# テキストの読み上げ\n",
        "response = client.audio.speech.create(\n",
        "    model= \"tts-1\",\n",
        "    voice=voice,\n",
        "    input=input_text,\n",
        "    speed=0.8\n",
        ")\n",
        "\n",
        "# mp3ファイル名設定\n",
        "mp3_path = \"桃太郎.mp3\"\n",
        "\n",
        "# 音声ファイルに出力\n",
        "response.stream_to_file(mp3_path)\n",
        "\n"
      ],
      "metadata": {
        "id": "4GonjckRm_gn"
      },
      "execution_count": null,
      "outputs": []
    },
    {
      "cell_type": "markdown",
      "source": [
        "# **⑤再生実行**"
      ],
      "metadata": {
        "id": "h8eMvcXe6Xvt"
      }
    },
    {
      "cell_type": "code",
      "source": [
        "import IPython.display\n",
        "\n",
        "IPython.display.Audio(mp3_path, autoplay=True)"
      ],
      "metadata": {
        "id": "7cKLonBDpaFi"
      },
      "execution_count": null,
      "outputs": []
    }
  ]
}