{
  "nbformat": 4,
  "nbformat_minor": 0,
  "metadata": {
    "colab": {
      "provenance": [],
      "include_colab_link": true
    },
    "kernelspec": {
      "name": "python3",
      "display_name": "Python 3"
    },
    "language_info": {
      "name": "python"
    }
  },
  "cells": [
    {
      "cell_type": "markdown",
      "metadata": {
        "id": "view-in-github",
        "colab_type": "text"
      },
      "source": [
        "<a href=\"https://colab.research.google.com/github/nekoniii3/Colabo_Samples/blob/main/023_DallE3_Vision/GPT_DALL%C2%B7E3.ipynb\" target=\"_parent\"><img src=\"https://colab.research.google.com/assets/colab-badge.svg\" alt=\"Open In Colab\"/></a>"
      ]
    },
    {
      "cell_type": "markdown",
      "metadata": {
        "id": "Jsd5j2R9Q0r8"
      },
      "source": [
        "## **準備：OpenAIパッケージのインストール**"
      ]
    },
    {
      "cell_type": "code",
      "source": [
        "!pip install openai"
      ],
      "metadata": {
        "id": "PAN9_IvHBrow"
      },
      "execution_count": null,
      "outputs": []
    },
    {
      "cell_type": "markdown",
      "metadata": {
        "id": "eXsD2-Xoxlj9"
      },
      "source": [
        "## **①OpenAI接続**"
      ]
    },
    {
      "cell_type": "code",
      "execution_count": null,
      "metadata": {
        "id": "beaeaXYaBmuY"
      },
      "outputs": [],
      "source": [
        "from openai import OpenAI\n",
        "import os\n",
        "\n",
        "os.environ[\"OPENAI_API_KEY\"] = 'sk-***************************************'\n",
        "\n",
        "client = OpenAI()"
      ]
    },
    {
      "cell_type": "markdown",
      "metadata": {
        "id": "ofGGRhZpp0bM"
      },
      "source": [
        "## **②画像設定**"
      ]
    },
    {
      "cell_type": "code",
      "source": [
        "# プロンプト設定\n",
        "prompt = \"8-bit/pixelated versions of Statue of Liberty\"\n",
        "\n",
        "# 画像のサイズ設定\n",
        "size = \"1024x1024\"\n",
        "\n",
        "# クオリティ設定\n",
        "quality = \"standard\""
      ],
      "metadata": {
        "id": "fB_eZ_cvk-y9"
      },
      "execution_count": null,
      "outputs": []
    },
    {
      "cell_type": "markdown",
      "metadata": {
        "id": "EA_58V1zp1vs"
      },
      "source": [
        "## **③画像生成実行**"
      ]
    },
    {
      "cell_type": "code",
      "source": [
        "# model=\"dall-e-3\"で画像生成\n",
        "response = client.images.generate(\n",
        "  model=\"dall-e-3\",\n",
        "  prompt=prompt,\n",
        "  size=size,\n",
        "  quality=quality,\n",
        "  n=1,    # dall-e-3は1枚のみ対応\n",
        "  response_format=\"b64_json\"\n",
        ")"
      ],
      "metadata": {
        "id": "Fp4KMQ_xk7vn"
      },
      "execution_count": null,
      "outputs": []
    },
    {
      "cell_type": "markdown",
      "metadata": {
        "id": "JSA-c267p560"
      },
      "source": [
        "## **④画像の表示・保存**"
      ]
    },
    {
      "cell_type": "code",
      "source": [
        "import base64\n",
        "from PIL import Image\n",
        "from io import BytesIO\n",
        "\n",
        "# 保存先設定\n",
        "image_path = \"image01.png\"\n",
        "\n",
        "# base64データで受け取る\n",
        "image_data_json = response.data[0].b64_json\n",
        "\n",
        "# データをデコード\n",
        "image_data = base64.b64decode(image_data_json)\n",
        "\n",
        "# バイナリを画像として扱えるようにする\n",
        "image_stream = BytesIO(image_data)\n",
        "image = Image.open(image_stream)\n",
        "\n",
        "# 画像の保存\n",
        "image.save(image_path)"
      ],
      "metadata": {
        "id": "XlmAuwyaL_Co"
      },
      "execution_count": null,
      "outputs": []
    },
    {
      "cell_type": "code",
      "source": [
        "from IPython.display import display\n",
        "\n",
        "# 画像の表示\n",
        "display(image)"
      ],
      "metadata": {
        "id": "OHse2LAofH2i"
      },
      "execution_count": null,
      "outputs": []
    },
    {
      "cell_type": "code",
      "source": [
        "# プロンプト確認\n",
        "revised_prompt = response.data[0].revised_prompt\n",
        "\n",
        "print(revised_prompt)"
      ],
      "metadata": {
        "id": "7UOniykw67-C"
      },
      "execution_count": null,
      "outputs": []
    }
  ]
}