{
  "nbformat": 4,
  "nbformat_minor": 0,
  "metadata": {
    "colab": {
      "provenance": [],
      "include_colab_link": true
    },
    "kernelspec": {
      "name": "python3",
      "display_name": "Python 3"
    },
    "language_info": {
      "name": "python"
    }
  },
  "cells": [
    {
      "cell_type": "markdown",
      "metadata": {
        "id": "view-in-github",
        "colab_type": "text"
      },
      "source": [
        "<a href=\"https://colab.research.google.com/github/nekoniii3/Colabo_Samples/blob/main/023_DallE3_Vision/GPT_4_with_Vision.ipynb\" target=\"_parent\"><img src=\"https://colab.research.google.com/assets/colab-badge.svg\" alt=\"Open In Colab\"/></a>"
      ]
    },
    {
      "cell_type": "markdown",
      "metadata": {
        "id": "Jsd5j2R9Q0r8"
      },
      "source": [
        "## **準備：OpenAIパッケージのインストール**"
      ]
    },
    {
      "cell_type": "code",
      "execution_count": null,
      "metadata": {
        "id": "f8t17cXsYY8h"
      },
      "outputs": [],
      "source": [
        "!pip install openai"
      ]
    },
    {
      "cell_type": "markdown",
      "metadata": {
        "id": "eXsD2-Xoxlj9"
      },
      "source": [
        "## **①OpenAI接続**"
      ]
    },
    {
      "cell_type": "code",
      "source": [
        "from openai import OpenAI\n",
        "import os\n",
        "\n",
        "# APKIキーのセットとクライアント接続\n",
        "os.environ[\"OPENAI_API_KEY\"] = 'sk-***************************************'\n",
        "\n",
        "client = OpenAI()"
      ],
      "metadata": {
        "id": "koFQmMSxYvtn"
      },
      "execution_count": null,
      "outputs": []
    },
    {
      "cell_type": "markdown",
      "metadata": {
        "id": "D1fSHZp0jD0Q"
      },
      "source": [
        "## **②画像の情報の取得**"
      ]
    },
    {
      "cell_type": "code",
      "execution_count": null,
      "metadata": {
        "id": "kSXIG39nrhoH"
      },
      "outputs": [],
      "source": [
        "import base64\n",
        "\n",
        "# 画像ファイルのパスを指定\n",
        "image_path = \"Image.jpg\"\n",
        "\n",
        "# 画像をbase64で読み込む関数\n",
        "def encode_image(image_path):\n",
        "    with open(image_path, \"rb\") as image_file:\n",
        "        return base64.b64encode(image_file.read()).decode(\"utf-8\")\n",
        "\n",
        "# 画像をbase64で読み込む\n",
        "base64_image = encode_image(image_path)"
      ]
    },
    {
      "cell_type": "markdown",
      "metadata": {
        "id": "ZSPA29ckjOce"
      },
      "source": [
        "## **③メッセージ作成**"
      ]
    },
    {
      "cell_type": "code",
      "source": [
        "# プロンプト設定\n",
        "prompt = \"この画像はどのような画像かを説明してください。\"\n",
        "\n",
        "# モードを設定\n",
        "detail = \"low\"\n",
        "\n",
        "# メッセージの作成\n",
        "messages = [\n",
        "    {\n",
        "        \"role\": \"user\",\n",
        "        \"content\": [\n",
        "            {\"type\": \"text\", \"text\": prompt},\n",
        "            {\n",
        "                \"type\": \"image_url\",\n",
        "                \"image_url\": {\n",
        "                    \"url\": f\"data:image/jpeg;base64,{base64_image}\",\n",
        "                    \"detail\": detail,\n",
        "                }\n",
        "            },\n",
        "        ],\n",
        "    }\n",
        "]\n"
      ],
      "metadata": {
        "id": "JJUFz5netELn"
      },
      "execution_count": null,
      "outputs": []
    },
    {
      "cell_type": "markdown",
      "metadata": {
        "id": "QWwtO0PPjfrC"
      },
      "source": [
        "## **④GPT-4から回答を受け取る**"
      ]
    },
    {
      "cell_type": "code",
      "source": [
        "# gpt-4-visionに問い合わせて回答を表示\n",
        "response = client.chat.completions.create(\n",
        "    model=\"gpt-4-vision-preview\",   # Visionはこのモデル指定\n",
        "    messages=messages,\n",
        "    max_tokens=300,\n",
        ")\n",
        "\n",
        "print(response.choices[0].message.content)"
      ],
      "metadata": {
        "id": "lW7C24H-6pYE"
      },
      "execution_count": null,
      "outputs": []
    }
  ]
}