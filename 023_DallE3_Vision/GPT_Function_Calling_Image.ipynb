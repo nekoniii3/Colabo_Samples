{
  "nbformat": 4,
  "nbformat_minor": 0,
  "metadata": {
    "colab": {
      "provenance": [],
      "include_colab_link": true
    },
    "kernelspec": {
      "name": "python3",
      "display_name": "Python 3"
    },
    "language_info": {
      "name": "python"
    }
  },
  "cells": [
    {
      "cell_type": "markdown",
      "metadata": {
        "id": "view-in-github",
        "colab_type": "text"
      },
      "source": [
        "<a href=\"https://colab.research.google.com/github/nekoniii3/Colabo_Samples/blob/main/023_DallE3_Vision/GPT_Function_Calling_Image.ipynb\" target=\"_parent\"><img src=\"https://colab.research.google.com/assets/colab-badge.svg\" alt=\"Open In Colab\"/></a>"
      ]
    },
    {
      "cell_type": "markdown",
      "metadata": {
        "id": "5K_ep_6rFi6n"
      },
      "source": [
        "## **準備：OpenAIパッケージのインストール**"
      ]
    },
    {
      "cell_type": "code",
      "execution_count": null,
      "metadata": {
        "id": "f8t17cXsYY8h"
      },
      "outputs": [],
      "source": [
        "!pip install openai"
      ]
    },
    {
      "cell_type": "markdown",
      "metadata": {
        "id": "ofGGRhZpp0bM"
      },
      "source": [
        "## **準備：関数情報作成（アシスタント用）**"
      ]
    },
    {
      "cell_type": "code",
      "source": [
        "# 関数情報\n",
        "func_Dall_E3 = {\n",
        "        \"type\": \"function\",\n",
        "        \"function\": {\n",
        "            \"name\": \"request_DallE3\",\n",
        "            \"description\": \"画像生成AI「dall-e-3」で指定のPromptから画像を作る。\",\n",
        "            \"parameters\": {\n",
        "                \"type\": \"object\",\n",
        "                \"properties\": {\n",
        "                    \"prompt\": {\"type\": \"string\", \"description\": \"画像を作るためのPrompt\"},\n",
        "                },\n",
        "                \"required\": [\"prompt\"]\n",
        "            }\n",
        "        }\n",
        "    }\n",
        "\n",
        "func_Vision = {\n",
        "        \"type\": \"function\",\n",
        "        \"function\": {\n",
        "            \"name\": \"request_Vision\",\n",
        "            \"description\": \"画像解析技術「Vision」により、指定の画像に関する質問に回答する。\",\n",
        "            \"parameters\": {\n",
        "                \"type\": \"object\",\n",
        "                \"properties\": {\n",
        "                    \"prompt\": {\"type\": \"string\", \"description\": \"画像に対する質問内容（Prompt）\"},\n",
        "                },\n",
        "                \"required\": [\"prompt\"]\n",
        "            }\n",
        "        }\n",
        "    }"
      ],
      "metadata": {
        "id": "ZAYCnKP8cT5u"
      },
      "execution_count": null,
      "outputs": []
    },
    {
      "cell_type": "markdown",
      "source": [
        "# **準備：関数定義**"
      ],
      "metadata": {
        "id": "y9y3KKO6ixg9"
      }
    },
    {
      "cell_type": "code",
      "execution_count": null,
      "metadata": {
        "id": "PJhc-ZpH01fA"
      },
      "outputs": [],
      "source": [
        "from PIL import Image\n",
        "from io import BytesIO\n",
        "from openai import (\n",
        "    OpenAI, AuthenticationError, NotFoundError, BadRequestError\n",
        ")\n",
        "import base64\n",
        "\n",
        "\n",
        "def encode_image(image_path):\n",
        "    with open(image_path, \"rb\") as image_file:\n",
        "        return base64.b64encode(image_file.read()).decode(\"utf-8\")\n",
        "\n",
        "\n",
        "def request_DallE3(client, prompt, out_image_path):\n",
        "\n",
        "    err_msg = \"\"\n",
        "\n",
        "    # 今回はこれらの設定で固定\n",
        "    size = \"1024x1024\"\n",
        "    quality = \"standard\"\n",
        "\n",
        "    try:\n",
        "\n",
        "        response = client.images.generate(\n",
        "        model=\"dall-e-3\",\n",
        "        prompt=prompt,\n",
        "        size=size,\n",
        "        quality=quality,\n",
        "        n=1,\n",
        "        response_format=\"b64_json\"\n",
        "        )\n",
        "\n",
        "        # データを受け取りデコード\n",
        "        image_data_json = response.data[0].b64_json\n",
        "        image_data = base64.b64decode(image_data_json)\n",
        "\n",
        "        # 画像として扱えるように保存\n",
        "        image_stream = BytesIO(image_data)\n",
        "        image = Image.open(image_stream)\n",
        "        image.save(out_image_path)\n",
        "\n",
        "    except BadRequestError as e:\n",
        "        print(e)\n",
        "        out_image_path = \"\"\n",
        "        err_msg = \"リクエストエラーです。著作権侵害などプロンプトを確認して下さい。\"\n",
        "    except Exception as e:\n",
        "        print(e)\n",
        "        out_image_path = \"\"\n",
        "        err_msg = \"その他のエラーが発生しました。\"\n",
        "\n",
        "    finally:\n",
        "\n",
        "        # 結果をJSONで返す\n",
        "        dalle3_result = {\n",
        "            \"image_path\" : out_image_path,\n",
        "            \"error_message\" : err_msg\n",
        "        }\n",
        "        return json.dumps(dalle3_result)\n",
        "\n",
        "\n",
        "def request_Vision(client, prompt, image_path):\n",
        "\n",
        "    response_text = \"\"\n",
        "    err_msg = \"\"\n",
        "\n",
        "    # 今回はこれらの設定で固定\n",
        "    detail = \"low\"\n",
        "    max_tokens = 300\n",
        "\n",
        "    if image_path == \"\":\n",
        "\n",
        "        # 画像がない時はエラーとして返す\n",
        "        vision_result = {\"answer\" : \"\", \"error_message\" : \"画像をセットして下さい。\"}\n",
        "        return json.dumps(vision_result)\n",
        "\n",
        "    try:\n",
        "\n",
        "        # 画像をbase64に変換\n",
        "        image = encode_image(image_path)\n",
        "\n",
        "        # メッセージの作成\n",
        "        messages = [\n",
        "            {\n",
        "                \"role\": \"user\",\n",
        "                \"content\": [\n",
        "                    {\"type\": \"text\", \"text\": prompt},\n",
        "                    {\n",
        "                        \"type\": \"image_url\",\n",
        "                        \"image_url\": {\n",
        "                            \"url\": f\"data:image/jpeg;base64,{image}\",\n",
        "                            \"detail\": detail,\n",
        "                        }\n",
        "                    },\n",
        "                ],\n",
        "            }\n",
        "        ]\n",
        "\n",
        "        # gpt-4-visionに問い合わせて回答を表示\n",
        "        response = client.chat.completions.create(\n",
        "            model=\"gpt-4-vision-preview\",   # Visionはこのモデル指定\n",
        "            messages=messages,\n",
        "            max_tokens=max_tokens,\n",
        "        )\n",
        "\n",
        "        response_text = response.choices[0].message.content\n",
        "\n",
        "        print(response_text)\n",
        "\n",
        "    except BadRequestError as e:\n",
        "        print(e)\n",
        "        err_msg = \"リクエストエラーです。画像がポリシー違反でないか確認して下さい。\"\n",
        "    except Exception as e:\n",
        "        print(e)\n",
        "        err_msg = \"その他のエラーが発生しました。\"\n",
        "\n",
        "    finally:\n",
        "\n",
        "        # 結果をJSONで返す\n",
        "        vision_result = {\n",
        "            \"answer\" : response_text,\n",
        "            \"error_message\" : err_msg\n",
        "        }\n",
        "        return json.dumps(vision_result)"
      ]
    },
    {
      "cell_type": "markdown",
      "metadata": {
        "id": "eXsD2-Xoxlj9"
      },
      "source": [
        "## **①OpenAI接続**"
      ]
    },
    {
      "cell_type": "code",
      "source": [
        "from openai import OpenAI\n",
        "import os\n",
        "import json\n",
        "\n",
        "# APKIキーのセットとクライアント接続\n",
        "os.environ[\"OPENAI_API_KEY\"] = 'sk-***************************************''\n",
        "\n",
        "client = OpenAI()"
      ],
      "metadata": {
        "id": "koFQmMSxYvtn"
      },
      "execution_count": null,
      "outputs": []
    },
    {
      "cell_type": "markdown",
      "metadata": {
        "id": "2MmRaFwqGOBH"
      },
      "source": [
        "## **②アシスタント作成 ※作成は1度で大丈夫です**"
      ]
    },
    {
      "cell_type": "code",
      "source": [
        "# アシスタントの作成\n",
        "assistant = client.beta.assistants.create(\n",
        "    name=\"GPT_Illustrator\",\n",
        "    instructions=\"あなたはイラストレーターです。提供されている関数を使用して画像を作ったり、画像を解析したりします。\",\n",
        "    model=\"gpt-3.5-turbo-1106\",\n",
        "    tools=[func_Vision, func_Dall_E3]\n",
        ")\n",
        "\n",
        "assistant_id = assistant.id\n",
        "print(assistant_id)"
      ],
      "metadata": {
        "id": "FK2ivIXHeRrK"
      },
      "execution_count": null,
      "outputs": []
    },
    {
      "cell_type": "markdown",
      "metadata": {
        "id": "IVhc9CP7y5Uo"
      },
      "source": [
        "### **※アシスタントが既にあればIDをセット**"
      ]
    },
    {
      "cell_type": "code",
      "source": [
        "assistant_id = \"asst_XXXXXXXXXXXXXXXXXXXXXX\""
      ],
      "metadata": {
        "id": "igcEIk4FgLHi"
      },
      "execution_count": null,
      "outputs": []
    },
    {
      "cell_type": "markdown",
      "metadata": {
        "id": "T9EjyqgnHPuu"
      },
      "source": [
        "## **③メッセージの作成**"
      ]
    },
    {
      "cell_type": "code",
      "source": [
        "# スレッドの作成\n",
        "thread = client.beta.threads.create()"
      ],
      "metadata": {
        "id": "D7BRe8JSgiBE"
      },
      "execution_count": null,
      "outputs": []
    },
    {
      "cell_type": "code",
      "source": [
        "# prompt = \"青い目のシャム猫の画像を作ってください。\"\n",
        "# prompt = \"次の画像が何を表しているか教えてください。\"\n",
        "prompt = \"「1980s anime girl with straight bob-cut in school uniform, roughly drawn drawing」で画像を作ってください。\"\n",
        "\n",
        "# メッセージの作成\n",
        "message = client.beta.threads.messages.create(\n",
        "    thread_id=thread.id,\n",
        "    role=\"user\",\n",
        "    content=prompt,\n",
        ")"
      ],
      "metadata": {
        "id": "97pi9RRQa1kb"
      },
      "execution_count": null,
      "outputs": []
    },
    {
      "cell_type": "code",
      "source": [
        "# RUNスタート（アシスタントへ問い合わせ）\n",
        "run = client.beta.threads.runs.create(\n",
        "  thread_id=thread.id,\n",
        "  assistant_id=assistant_id\n",
        ")"
      ],
      "metadata": {
        "id": "u8Y-HdDgg-tI"
      },
      "execution_count": null,
      "outputs": []
    },
    {
      "cell_type": "code",
      "source": [
        "# スレッドの実行状態を受け取る\n",
        "run = client.beta.threads.runs.retrieve(\n",
        "  thread_id=thread.id,\n",
        "  run_id=run.id\n",
        ")\n",
        "\n",
        "# 状態を確認\n",
        "print(run.status)"
      ],
      "metadata": {
        "id": "o-k7_JNRjmcU"
      },
      "execution_count": null,
      "outputs": []
    },
    {
      "cell_type": "markdown",
      "metadata": {
        "id": "-qtAnDWwliO2"
      },
      "source": [
        "## **④関数の結果の提出**"
      ]
    },
    {
      "cell_type": "code",
      "source": [
        "if run.status == \"requires_action\":   # 関数の結果の提出待ち\n",
        "\n",
        "    # ここに入力画像のファイルパス設定(Visionの場合のみ)\n",
        "    image_path = \"./image.jpg\"\n",
        "\n",
        "    # 出力画像のファイルパスを適当に設定(dall-e-3の場合のみ)\n",
        "    out_image_path = \"out_image.jpg\"\n",
        "\n",
        "    tool_id = run.required_action.submit_tool_outputs.tool_calls[0].id\n",
        "    func_name = run.required_action.submit_tool_outputs.tool_calls[0].function.name\n",
        "    func_args = json.loads(run.required_action.submit_tool_outputs.tool_calls[0].function.arguments)\n",
        "\n",
        "    print(\"id:\", tool_id)\n",
        "    print(\"name:\", func_name)\n",
        "    print(\"arguments:\", func_args)\n",
        "\n",
        "    if func_name == \"request_DallE3\":\n",
        "\n",
        "        func_output = request_DallE3(\n",
        "            client,\n",
        "            func_args[\"prompt\"],\n",
        "            out_image_path   # 出力パス\n",
        "        )\n",
        "\n",
        "    elif func_name == \"request_Vision\":\n",
        "\n",
        "        func_output = request_Vision(\n",
        "            client,\n",
        "            func_args[\"prompt\"],\n",
        "            image_path\n",
        "        )\n",
        "\n"
      ],
      "metadata": {
        "id": "qkgQ1xyVRWH5"
      },
      "execution_count": null,
      "outputs": []
    },
    {
      "cell_type": "code",
      "source": [
        "# 関数の出力を提出\n",
        "run = client.beta.threads.runs.submit_tool_outputs(\n",
        "    thread_id=thread.id,\n",
        "    run_id=run.id,\n",
        "    tool_outputs=[\n",
        "        {\n",
        "            \"tool_call_id\": tool_id,\n",
        "            \"output\": func_output,\n",
        "        }\n",
        "    ]\n",
        ")"
      ],
      "metadata": {
        "id": "8z_SZzg5Vvpa"
      },
      "execution_count": null,
      "outputs": []
    },
    {
      "cell_type": "markdown",
      "metadata": {
        "id": "XwaLGtc0mJYo"
      },
      "source": [
        "## **⑤再度メッセージを受け取る**"
      ]
    },
    {
      "cell_type": "code",
      "source": [
        "# スレッドの実行状態を受け取る\n",
        "run = client.beta.threads.runs.retrieve(\n",
        "  thread_id=thread.id,\n",
        "  run_id=run.id\n",
        ")\n",
        "\n",
        "# 状態を確認\n",
        "print(run.status)"
      ],
      "metadata": {
        "id": "DQVyA586hE0u"
      },
      "execution_count": null,
      "outputs": []
    },
    {
      "cell_type": "code",
      "source": [
        "# スレッドのメッセージリストの確認\n",
        "messages = client.beta.threads.messages.list(\n",
        "    thread_id=thread.id,\n",
        "    order=\"asc\"\n",
        ")\n",
        "for message in messages:\n",
        "    print(message.role, \":\", message.content[0].text.value)"
      ],
      "metadata": {
        "id": "_ZBbTxMphgrv"
      },
      "execution_count": null,
      "outputs": []
    },
    {
      "cell_type": "markdown",
      "source": [
        "# **画像の確認（Dall-E-3のみ）**"
      ],
      "metadata": {
        "id": "sNDcUOPb3PaG"
      }
    },
    {
      "cell_type": "code",
      "source": [
        "from IPython.display import display\n",
        "\n",
        "out_image = Image.open(out_image_path)\n",
        "\n",
        "display(out_image)"
      ],
      "metadata": {
        "id": "sg7DCl3S3Nue"
      },
      "execution_count": null,
      "outputs": []
    },
    {
      "cell_type": "markdown",
      "source": [
        "# **（テスト用の関数）**"
      ],
      "metadata": {
        "id": "AtKkZ4BUmpFy"
      }
    },
    {
      "cell_type": "code",
      "source": [
        "def request_DallE3(client, prompt, out_image_path):\n",
        "    \"\"\" DallE3を呼び出す \"\"\"\n",
        "\n",
        "    err_msg = \"\"\n",
        "\n",
        "    dalle3_result = {\n",
        "        \"image_path\" : out_image_path,\n",
        "        \"error_message\" : err_msg\n",
        "    }\n",
        "\n",
        "    return json.dumps(dalle3_result)\n",
        "\n",
        "\n",
        "def request_Vision(client, prompt, image_path):\n",
        "    \"\"\" GPT4 Visionを呼び出す \"\"\"\n",
        "\n",
        "    response_text = \"この画像は驚いた表情をしている人物を写した写真です。\"\n",
        "    err_msg = \"\"\n",
        "\n",
        "    vision_result = {\n",
        "        \"answer\" : response_text,\n",
        "        \"error_message\" : err_msg\n",
        "    }\n",
        "\n",
        "    return json.dumps(vision_result)"
      ],
      "metadata": {
        "id": "TNVQCNS-Y-Lv"
      },
      "execution_count": null,
      "outputs": []
    }
  ]
}