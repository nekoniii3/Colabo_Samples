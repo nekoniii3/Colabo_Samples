{
  "nbformat": 4,
  "nbformat_minor": 0,
  "metadata": {
    "colab": {
      "provenance": [],
      "include_colab_link": true
    },
    "kernelspec": {
      "name": "python3",
      "display_name": "Python 3"
    },
    "language_info": {
      "name": "python"
    }
  },
  "cells": [
    {
      "cell_type": "markdown",
      "metadata": {
        "id": "view-in-github",
        "colab_type": "text"
      },
      "source": [
        "<a href=\"https://colab.research.google.com/github/nekoniii3/Colabo_Samples/blob/main/025_Gemini_Pro/Gemini_Vision.ipynb\" target=\"_parent\"><img src=\"https://colab.research.google.com/assets/colab-badge.svg\" alt=\"Open In Colab\"/></a>"
      ]
    },
    {
      "cell_type": "markdown",
      "source": [
        "# **⓪google-generativeaiインストール**"
      ],
      "metadata": {
        "id": "00BBc10OFLld"
      }
    },
    {
      "cell_type": "code",
      "execution_count": null,
      "metadata": {
        "id": "EH9dBQXaoYw4"
      },
      "outputs": [],
      "source": [
        "!pip install -q -U google-generativeai"
      ]
    },
    {
      "cell_type": "markdown",
      "source": [
        "# **①APIキー設定**"
      ],
      "metadata": {
        "id": "CmNcqWcbFV2y"
      }
    },
    {
      "cell_type": "code",
      "source": [
        "import google.generativeai as genai\n",
        "from google.colab import userdata\n",
        "\n",
        "GOOGLE_API_KEY = \"ここにAI Studioで設定したAPIキーを設定\"\n",
        "\n",
        "# 左のシークレットに設定した場合\n",
        "GOOGLE_API_KEY=userdata.get('GOOGLE_API_KEY')\n",
        "\n",
        "genai.configure(api_key=GOOGLE_API_KEY)"
      ],
      "metadata": {
        "id": "KVWBcvFSRC4e"
      },
      "execution_count": null,
      "outputs": []
    },
    {
      "cell_type": "markdown",
      "source": [
        "# **②Geminiモデル設定**"
      ],
      "metadata": {
        "id": "uxBqJqe0FWrX"
      }
    },
    {
      "cell_type": "code",
      "source": [
        "# モデルの設定（gemini-pro-vision）\n",
        "model = genai.GenerativeModel('gemini-pro-vision')"
      ],
      "metadata": {
        "id": "EOzNb6qJt1v4"
      },
      "execution_count": null,
      "outputs": []
    },
    {
      "cell_type": "markdown",
      "source": [
        "# **③画像セット**\n",
        "**※左のファイル（フォルダマーク）に画像をアップして下さい**"
      ],
      "metadata": {
        "id": "jb1YzWLpRlVi"
      }
    },
    {
      "cell_type": "code",
      "execution_count": null,
      "metadata": {
        "id": "juTPsQlztmRH"
      },
      "outputs": [],
      "source": [
        "import PIL.Image\n",
        "\n",
        "# 画像の読み込み\n",
        "img = PIL.Image.open(\"./image.jpg\")\n",
        "img"
      ]
    },
    {
      "cell_type": "markdown",
      "source": [
        "# **④問い合わせ実行**"
      ],
      "metadata": {
        "id": "prW68SF-TeE_"
      }
    },
    {
      "cell_type": "code",
      "source": [
        "# プロンプトセット\n",
        "prompt = \"この画像について説明して下さい。\"\n",
        "\n",
        "# トークンの最大値設定\n",
        "max_token = 1000\n",
        "\n",
        "response = model.generate_content([prompt, img], generation_config={\"max_output_tokens\": max_token})\n",
        "\n",
        "response.resolve()\n",
        "\n",
        "print(response.text)"
      ],
      "metadata": {
        "id": "blB6-Zn1uQUi"
      },
      "execution_count": null,
      "outputs": []
    }
  ]
}