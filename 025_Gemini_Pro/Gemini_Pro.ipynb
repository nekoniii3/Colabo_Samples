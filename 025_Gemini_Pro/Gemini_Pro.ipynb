{
  "nbformat": 4,
  "nbformat_minor": 0,
  "metadata": {
    "colab": {
      "provenance": [],
      "include_colab_link": true
    },
    "kernelspec": {
      "name": "python3",
      "display_name": "Python 3"
    },
    "language_info": {
      "name": "python"
    }
  },
  "cells": [
    {
      "cell_type": "markdown",
      "metadata": {
        "id": "view-in-github",
        "colab_type": "text"
      },
      "source": [
        "<a href=\"https://colab.research.google.com/github/nekoniii3/Colabo_Samples/blob/main/025_Gemini_Pro/Gemini_Pro.ipynb\" target=\"_parent\"><img src=\"https://colab.research.google.com/assets/colab-badge.svg\" alt=\"Open In Colab\"/></a>"
      ]
    },
    {
      "cell_type": "markdown",
      "source": [
        "# **⓪google-generativeaiインストール**"
      ],
      "metadata": {
        "id": "00BBc10OFLld"
      }
    },
    {
      "cell_type": "code",
      "execution_count": null,
      "metadata": {
        "id": "EH9dBQXaoYw4"
      },
      "outputs": [],
      "source": [
        "!pip install -q -U google-generativeai"
      ]
    },
    {
      "cell_type": "markdown",
      "source": [
        "# **①APIキー設定**"
      ],
      "metadata": {
        "id": "CmNcqWcbFV2y"
      }
    },
    {
      "cell_type": "code",
      "source": [
        "import google.generativeai as genai\n",
        "from google.colab import userdata\n",
        "\n",
        "GOOGLE_API_KEY = \"ここにAI Studioで取得したAPIキーを設定\"\n",
        "\n",
        "# 左のシークレットに設定した場合\n",
        "# GOOGLE_API_KEY=userdata.get('GOOGLE_API_KEY')\n",
        "\n",
        "genai.configure(api_key=GOOGLE_API_KEY)"
      ],
      "metadata": {
        "id": "7eO5vnTpoewe"
      },
      "execution_count": null,
      "outputs": []
    },
    {
      "cell_type": "markdown",
      "source": [
        "# **②Geminiモデル設定**"
      ],
      "metadata": {
        "id": "uxBqJqe0FWrX"
      }
    },
    {
      "cell_type": "code",
      "source": [
        "# モデルの設定（gemini-pro）\n",
        "model = genai.GenerativeModel('gemini-pro')"
      ],
      "metadata": {
        "id": "rWfvpFRIov7w"
      },
      "execution_count": null,
      "outputs": []
    },
    {
      "cell_type": "markdown",
      "source": [
        "# **③-1 回答を得るだけの場合（generate_content）**"
      ],
      "metadata": {
        "id": "pYdig1FhF_ng"
      }
    },
    {
      "cell_type": "code",
      "source": [
        "# プロンプトセット\n",
        "prompt = \"こんにちは！\"\n",
        "\n",
        "# トークンの最大値設定\n",
        "max_token = 1000\n",
        "\n",
        "response = model.generate_content(prompt, generation_config={\"max_output_tokens\": max_token})\n",
        "\n",
        "print(response.text)"
      ],
      "metadata": {
        "id": "QQBfEeqapDtm"
      },
      "execution_count": null,
      "outputs": []
    },
    {
      "cell_type": "markdown",
      "source": [
        "# **③-2 会話をする場合（start_chat）**"
      ],
      "metadata": {
        "id": "-29LmEOjG7Zn"
      }
    },
    {
      "cell_type": "code",
      "source": [
        "# チャットセッション作成\n",
        "chat = model.start_chat()"
      ],
      "metadata": {
        "id": "5TnnRYLXqAuc"
      },
      "execution_count": null,
      "outputs": []
    },
    {
      "cell_type": "code",
      "source": [
        "# 会話内容セット\n",
        "user_msg = \"日本のいいところを１つ教えてください。\"\n",
        "\n",
        "# トークンの最大値設定\n",
        "max_token = 1000\n",
        "\n",
        "responses = chat.send_message(user_msg, generation_config={\"max_output_tokens\": max_token})\n",
        "\n",
        "responses.resolve()\n",
        "\n",
        "print(responses.text)"
      ],
      "metadata": {
        "id": "lE0ftWIvpMZR"
      },
      "execution_count": null,
      "outputs": []
    },
    {
      "cell_type": "code",
      "source": [
        "# 会話内容セット\n",
        "user_msg = \"もう１つ教えて下さい。\"\n",
        "\n",
        "responses = chat.send_message(user_msg, generation_config={\"max_output_tokens\": max_token})\n",
        "\n",
        "responses.resolve()\n",
        "\n",
        "print(responses.text)"
      ],
      "metadata": {
        "id": "wyW7-qRXq9Ab"
      },
      "execution_count": null,
      "outputs": []
    },
    {
      "cell_type": "code",
      "source": [
        "# 会話履歴表示\n",
        "for msg in chat.history:\n",
        "\n",
        "    print(msg.role + \": \" + msg.parts[0].text)\n"
      ],
      "metadata": {
        "id": "NXqF9_6kNChZ"
      },
      "execution_count": null,
      "outputs": []
    }
  ]
}