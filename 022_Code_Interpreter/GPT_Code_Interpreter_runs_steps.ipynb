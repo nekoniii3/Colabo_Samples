{
  "nbformat": 4,
  "nbformat_minor": 0,
  "metadata": {
    "colab": {
      "provenance": [],
      "include_colab_link": true
    },
    "kernelspec": {
      "name": "python3",
      "display_name": "Python 3"
    },
    "language_info": {
      "name": "python"
    }
  },
  "cells": [
    {
      "cell_type": "markdown",
      "metadata": {
        "id": "view-in-github",
        "colab_type": "text"
      },
      "source": [
        "<a href=\"https://colab.research.google.com/github/nekoniii3/GPT_Code_Interpreter/blob/main/Colabo_Samples/GPT_Code_Interpreter_runs_steps.ipynb\" target=\"_parent\"><img src=\"https://colab.research.google.com/assets/colab-badge.svg\" alt=\"Open In Colab\"/></a>"
      ]
    },
    {
      "cell_type": "code",
      "execution_count": null,
      "metadata": {
        "id": "f8t17cXsYY8h"
      },
      "outputs": [],
      "source": [
        "!pip install openai"
      ]
    },
    {
      "cell_type": "markdown",
      "source": [
        "# **回答に至るまでのPythonコードの取得**"
      ],
      "metadata": {
        "id": "DjaOQmRe4Hhq"
      }
    },
    {
      "cell_type": "markdown",
      "source": [
        "### **OpenAI接続**"
      ],
      "metadata": {
        "id": "i-lyZHEuyX0k"
      }
    },
    {
      "cell_type": "code",
      "source": [
        "from openai import OpenAI\n",
        "import os\n",
        "\n",
        "# APKIキーのセットとクライアント接続\n",
        "os.environ[\"OPENAI_API_KEY\"] = 'sk-XXXXXXXXXXXXXXXXXXXXXXXXXXXXXXXXX'\n",
        "\n",
        "client = OpenAI()"
      ],
      "metadata": {
        "id": "koFQmMSxYvtn"
      },
      "execution_count": null,
      "outputs": []
    },
    {
      "cell_type": "markdown",
      "source": [
        "### **アシスタントIDセット**"
      ],
      "metadata": {
        "id": "IVhc9CP7y5Uo"
      }
    },
    {
      "cell_type": "code",
      "source": [
        "assistant_id = \"asst_XXXXXXXXXXXXXXXXXXXXXXXXX\""
      ],
      "metadata": {
        "id": "RSLJhlcKkJvV"
      },
      "execution_count": null,
      "outputs": []
    },
    {
      "cell_type": "markdown",
      "source": [
        "### **1-3 スレッドの作成**"
      ],
      "metadata": {
        "id": "NontZnByzLH2"
      }
    },
    {
      "cell_type": "code",
      "source": [
        "# スレッドの作成\n",
        "thread = client.beta.threads.create()"
      ],
      "metadata": {
        "id": "D7BRe8JSgiBE"
      },
      "execution_count": null,
      "outputs": []
    },
    {
      "cell_type": "markdown",
      "source": [
        "### **メッセージ作成**"
      ],
      "metadata": {
        "id": "9JvDlQK6CoEk"
      }
    },
    {
      "cell_type": "code",
      "source": [
        "prompt = \"素数を100個表示するプログラムを自身で作り、その内容を教えてください。\"\n",
        "\n",
        "# メッセージの作成\n",
        "message = client.beta.threads.messages.create(\n",
        "    thread_id=thread.id,\n",
        "    role=\"user\",\n",
        "    content=prompt\n",
        ")"
      ],
      "metadata": {
        "id": "JuJCZbvcyRV4"
      },
      "execution_count": null,
      "outputs": []
    },
    {
      "cell_type": "markdown",
      "source": [
        "### **問い合わせ実行**"
      ],
      "metadata": {
        "id": "TAaZhsptCvR7"
      }
    },
    {
      "cell_type": "code",
      "source": [
        "# RUNスタート（アシスタントへ問い合わせ）\n",
        "run = client.beta.threads.runs.create(\n",
        "  thread_id=thread.id,\n",
        "  assistant_id=assistant_id\n",
        ")"
      ],
      "metadata": {
        "id": "u8Y-HdDgg-tI"
      },
      "execution_count": null,
      "outputs": []
    },
    {
      "cell_type": "code",
      "source": [
        "# スレッドの実行状態を受け取る\n",
        "run = client.beta.threads.runs.retrieve(\n",
        "  thread_id=thread.id,\n",
        "  run_id=run.id\n",
        ")\n",
        "\n",
        "# 状態を確認（completeで完了）\n",
        "print(run.status)"
      ],
      "metadata": {
        "id": "o-k7_JNRjmcU",
        "colab": {
          "base_uri": "https://localhost:8080/"
        },
        "outputId": "961c9bca-ea89-4014-9e86-e8f049585ccd"
      },
      "execution_count": null,
      "outputs": [
        {
          "output_type": "stream",
          "name": "stdout",
          "text": [
            "completed\n"
          ]
        }
      ]
    },
    {
      "cell_type": "markdown",
      "source": [
        "### **RUN_STEPS（回答過程）取得**"
      ],
      "metadata": {
        "id": "RdiMOxH9C2Qw"
      }
    },
    {
      "cell_type": "code",
      "source": [
        "run_steps = client.beta.threads.runs.steps.list(\n",
        "    thread_id=thread.id,\n",
        "    run_id=run.id\n",
        ")"
      ],
      "metadata": {
        "id": "UZYhI055ffCX"
      },
      "execution_count": null,
      "outputs": []
    },
    {
      "cell_type": "markdown",
      "source": [
        "### **コードが存在すれば表示**"
      ],
      "metadata": {
        "id": "nkUx0QbpDAm9"
      }
    },
    {
      "cell_type": "code",
      "source": [
        "from openai.types.beta.threads.runs import ToolCallsStepDetails\n",
        "\n",
        "for data in run_steps.data:\n",
        "\n",
        "    if isinstance(data.step_details, ToolCallsStepDetails):\n",
        "\n",
        "        # コードが存在するときだけ取得\n",
        "        for tool_call in data.step_details.tool_calls:\n",
        "\n",
        "            print(tool_call.code_interpreter.input)"
      ],
      "metadata": {
        "id": "0gSS7qA09cvd",
        "colab": {
          "base_uri": "https://localhost:8080/"
        },
        "outputId": "a26418cb-817f-421f-aa45-3a38be11bc23"
      },
      "execution_count": null,
      "outputs": [
        {
          "output_type": "stream",
          "name": "stdout",
          "text": [
            "def is_prime(n):\n",
            "    if n <= 1:\n",
            "        return False\n",
            "    for i in range(2, int(n**0.5) + 1):\n",
            "        if n % i == 0:\n",
            "            return False\n",
            "    return True\n",
            "\n",
            "count = 0\n",
            "num = 2\n",
            "prime_numbers = []\n",
            "\n",
            "while count < 100:\n",
            "    if is_prime(num):\n",
            "        prime_numbers.append(num)\n",
            "        count += 1\n",
            "    num += 1\n",
            "\n",
            "prime_numbers\n"
          ]
        }
      ]
    },
    {
      "cell_type": "markdown",
      "source": [
        "### **※もちろん通常のメッセージも取得できます**"
      ],
      "metadata": {
        "id": "73excZIvCQfZ"
      }
    },
    {
      "cell_type": "code",
      "source": [
        "# メッセージを取得\n",
        "messages = client.beta.threads.messages.list(\n",
        "  thread_id=thread.id,\n",
        "  order = \"asc\",    # 昇順\n",
        ")"
      ],
      "metadata": {
        "id": "Ql8o7XzqjpKy"
      },
      "execution_count": null,
      "outputs": []
    },
    {
      "cell_type": "code",
      "source": [
        "# メッセージの表示（※テキストのみ、画像がある場合エラーとなる恐れがあります）\n",
        "for msg in messages:\n",
        "    print(msg.role + \"：\" + msg.content[0].text.value)"
      ],
      "metadata": {
        "id": "cNMK7ueuwTkG",
        "colab": {
          "base_uri": "https://localhost:8080/"
        },
        "outputId": "9ef698ca-22a1-47c1-9abd-90c5dd28692f"
      },
      "execution_count": null,
      "outputs": [
        {
          "output_type": "stream",
          "name": "stdout",
          "text": [
            "user：素数を100個表示するプログラムを自身で作り、その内容を教えてください。\n",
            "assistant：もちろんです。以下に、素数を100個表示するプログラムを作成します。\n",
            "\n",
            "まず、素数かどうかを判定する関数を定義し、それを用いて素数を100個表示するプログラムを作成します。\n",
            "assistant：上記のプログラムでは、指定された数の素数を求めるために、is_primeという関数を定義しました。その後、素数を見つけるまでカウントし、100個の素数が見つかったらそれを表示しました。\n",
            "\n",
            "これにより、100個の素数が見つかりました。\n"
          ]
        }
      ]
    }
  ]
}