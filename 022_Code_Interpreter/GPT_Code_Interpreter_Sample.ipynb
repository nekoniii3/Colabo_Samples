{
  "cells": [
    {
      "cell_type": "markdown",
      "metadata": {
        "colab_type": "text",
        "id": "view-in-github"
      },
      "source": [
        "<a href=\"https://colab.research.google.com/github/nekoniii3/Colabo_Samples/blob/main/022_Code_Interpreter/GPT_Code_Interpreter_Sample.ipynb\" target=\"_parent\"><img src=\"https://colab.research.google.com/assets/colab-badge.svg\" alt=\"Open In Colab\"/></a>"
      ]
    },
    {
      "cell_type": "markdown",
      "metadata": {
        "id": "Jsd5j2R9Q0r8"
      },
      "source": [
        "## **準備：OpenAIパッケージのインストール**"
      ]
    },
    {
      "cell_type": "code",
      "execution_count": null,
      "metadata": {
        "id": "f8t17cXsYY8h"
      },
      "outputs": [],
      "source": [
        "!pip install openai"
      ]
    },
    {
      "cell_type": "markdown",
      "metadata": {
        "id": "eXsD2-Xoxlj9"
      },
      "source": [
        "# **①メッセージのみのやり取り（ファイル無し）**"
      ]
    },
    {
      "cell_type": "markdown",
      "metadata": {
        "id": "i-lyZHEuyX0k"
      },
      "source": [
        "### **1-1 OpenAI接続**"
      ]
    },
    {
      "cell_type": "code",
      "execution_count": null,
      "metadata": {
        "id": "koFQmMSxYvtn"
      },
      "outputs": [],
      "source": [
        "from openai import OpenAI\n",
        "import os\n",
        "\n",
        "# APKIキーのセットとクライアント接続\n",
        "os.environ[\"OPENAI_API_KEY\"] = 'sk-XXXXXXXXXXXXXXXXXXXXXXXXXXXXXXXXX'\n",
        "\n",
        "client = OpenAI()"
      ]
    },
    {
      "cell_type": "markdown",
      "metadata": {
        "id": "l8-Rg70JyfFG"
      },
      "source": [
        "### **1-2 アシスタント作成 ※作成は1度で大丈夫です**"
      ]
    },
    {
      "cell_type": "code",
      "execution_count": null,
      "metadata": {
        "id": "Mp3gL3irySrX"
      },
      "outputs": [],
      "source": [
        "assistant = client.beta.assistants.create(\n",
        "  name=\"assistant01\",\n",
        "  instructions=\"あなたは優秀なアシスタントです。質問をされた場合は、質問に答えるコードを作成して実行します。\",\n",
        "  # model=\"gpt-4-1106-preview\",\n",
        "  model=\"gpt-3.5-turbo-1106\",   # Code Interpreterはどのモデルでも大丈夫です\n",
        "  tools=[{\"type\": \"code_interpreter\"}]\n",
        ")\n",
        "\n",
        "assistant_id = assistant.id\n",
        "\n",
        "print(assistant_id)"
      ]
    },
    {
      "cell_type": "markdown",
      "metadata": {
        "id": "IVhc9CP7y5Uo"
      },
      "source": [
        "### **※アシスタントが既にあればIDをセット**"
      ]
    },
    {
      "cell_type": "code",
      "execution_count": null,
      "metadata": {
        "id": "RSLJhlcKkJvV"
      },
      "outputs": [],
      "source": [
        "assistant_id = \"asst_XXXXXXXXXXXXXXXXXXXXXXXXX\""
      ]
    },
    {
      "cell_type": "markdown",
      "metadata": {
        "id": "NontZnByzLH2"
      },
      "source": [
        "### **1-3 スレッドの作成**"
      ]
    },
    {
      "cell_type": "code",
      "execution_count": null,
      "metadata": {
        "id": "D7BRe8JSgiBE"
      },
      "outputs": [],
      "source": [
        "# スレッドの作成\n",
        "thread = client.beta.threads.create()"
      ]
    },
    {
      "cell_type": "markdown",
      "metadata": {
        "id": "2LIGi9Vk1smI"
      },
      "source": [
        "### **1-4 アシスタントへの問い合わせ**"
      ]
    },
    {
      "cell_type": "code",
      "execution_count": null,
      "metadata": {
        "id": "97pi9RRQa1kb"
      },
      "outputs": [],
      "source": [
        "# 問い合わせ内容をセット\n",
        "prompt = \"こんにちは！\"\n",
        "\n",
        "# メッセージの作成\n",
        "message = client.beta.threads.messages.create(\n",
        "    thread_id=thread.id,\n",
        "    role=\"user\",\n",
        "    content=prompt,\n",
        "    # file_ids=[file_id]\n",
        ")"
      ]
    },
    {
      "cell_type": "code",
      "execution_count": null,
      "metadata": {
        "id": "u8Y-HdDgg-tI"
      },
      "outputs": [],
      "source": [
        "# RUNスタート（アシスタントへ問い合わせ）\n",
        "run = client.beta.threads.runs.create(\n",
        "  thread_id=thread.id,\n",
        "  assistant_id=assistant_id\n",
        "  # instructions=\"\"  # ここに新たにinstructionを入れることも可能\n",
        ")"
      ]
    },
    {
      "cell_type": "markdown",
      "metadata": {
        "id": "yRssj1zA02sS"
      },
      "source": [
        "### **1-4 RUNの状態確認とメッセージの受け取り**"
      ]
    },
    {
      "cell_type": "code",
      "execution_count": null,
      "metadata": {
        "id": "o-k7_JNRjmcU"
      },
      "outputs": [],
      "source": [
        "# スレッドの実行状態を受け取る\n",
        "run = client.beta.threads.runs.retrieve(\n",
        "  thread_id=thread.id,\n",
        "  run_id=run.id\n",
        ")\n",
        "\n",
        "# 状態を確認（completeで完了）\n",
        "print(run.status)"
      ]
    },
    {
      "cell_type": "code",
      "execution_count": null,
      "metadata": {
        "id": "Ql8o7XzqjpKy"
      },
      "outputs": [],
      "source": [
        "# メッセージを取得\n",
        "messages = client.beta.threads.messages.list(\n",
        "  thread_id=thread.id,\n",
        "  order = \"asc\",    # 昇順\n",
        "  # after = \"\",   # これで前回以降のメッセージなど抽出が可能\n",
        ")"
      ]
    },
    {
      "cell_type": "code",
      "execution_count": null,
      "metadata": {
        "id": "cNMK7ueuwTkG"
      },
      "outputs": [],
      "source": [
        "# メッセージの表示（※テキストのみ、画像がある場合エラーとなる恐れがあります）\n",
        "for msg in messages:\n",
        "    print(msg.role + \"：\" + msg.content[0].text.value)"
      ]
    },
    {
      "cell_type": "markdown",
      "metadata": {
        "id": "MCJr_rIzxxY0"
      },
      "source": [
        "# **②ファイルがある場合のやり取り**"
      ]
    },
    {
      "cell_type": "markdown",
      "metadata": {
        "id": "OX_Y7qsQ1Rnb"
      },
      "source": [
        "### **※1-1～1-3は同じです<br>2-1 ファイルのアップ**"
      ]
    },
    {
      "cell_type": "code",
      "execution_count": null,
      "metadata": {
        "id": "c2ZMouklE8hx"
      },
      "outputs": [],
      "source": [
        "# ファイルのアップ\n",
        "file_response = client.files.create(\n",
        "    purpose=\"assistants\",\n",
        "    file=open(\"ファイル名.csv\",\"rb\"),\n",
        ")\n",
        "\n",
        "# IDの取得\n",
        "file_id = file_response.id\n",
        "\n",
        "print(file_id)"
      ]
    },
    {
      "cell_type": "markdown",
      "metadata": {
        "id": "-ok7bAYm2YHV"
      },
      "source": [
        "### **2-2 ファイルをセットして、アシスタントへの問い合わせ**"
      ]
    },
    {
      "cell_type": "code",
      "execution_count": null,
      "metadata": {
        "id": "Xj3k_m4lIp1i"
      },
      "outputs": [],
      "source": [
        "prompt = \"これは○○のデータです。折れ線グラフでデータの可視化をお願いします。\"\n",
        "\n",
        "# メッセージの作成\n",
        "message = client.beta.threads.messages.create(\n",
        "    thread_id=thread.id,\n",
        "    role=\"user\",\n",
        "    content=prompt,\n",
        "    file_ids=[file_id]    # ※ファイルはLISTで複数も可能\n",
        ")"
      ]
    },
    {
      "cell_type": "code",
      "execution_count": null,
      "metadata": {
        "id": "3L2H2wRrI15a"
      },
      "outputs": [],
      "source": [
        "# スレッドの実行\n",
        "run = client.beta.threads.runs.create(\n",
        "  thread_id=thread.id,\n",
        "  assistant_id=assistant_id\n",
        "  # instructions=\"\"  # ここに新たにinstructionを入れることも可能\n",
        ")"
      ]
    },
    {
      "cell_type": "markdown",
      "metadata": {
        "id": "RXHGhMZ42wjW"
      },
      "source": [
        "### **2-3 RUNの状態確認とメッセージの受け取り**"
      ]
    },
    {
      "cell_type": "code",
      "execution_count": null,
      "metadata": {
        "id": "QPnEoHjC1VqW"
      },
      "outputs": [],
      "source": [
        "# スレッドの実行状態を受け取る\n",
        "run = client.beta.threads.runs.retrieve(\n",
        "  thread_id=thread.id,\n",
        "  run_id=run.id\n",
        ")\n",
        "\n",
        "print(run.status)"
      ]
    },
    {
      "cell_type": "code",
      "execution_count": null,
      "metadata": {
        "id": "asrt8UlKJIAX"
      },
      "outputs": [],
      "source": [
        "# メッセージを取得\n",
        "messages = client.beta.threads.messages.list(\n",
        "  thread_id=thread.id,\n",
        "  order = \"asc\"\n",
        ")"
      ]
    },
    {
      "cell_type": "code",
      "execution_count": null,
      "metadata": {
        "id": "RlGjh_Q4JPft"
      },
      "outputs": [],
      "source": [
        "# メッセージの表示\n",
        "for msg in messages:\n",
        "\n",
        "    print(msg.role + \"：\")\n",
        "\n",
        "    if msg.role == \"assistant\":\n",
        "\n",
        "        for content in msg.content:\n",
        "\n",
        "            image_fileid = \"\"\n",
        "            assist_msg = \"\"\n",
        "\n",
        "            cont_dict = content.model_dump()  # 辞書型に変換\n",
        "\n",
        "            if cont_dict.get(\"image_file\") is not None:\n",
        "\n",
        "                image_fileid = cont_dict.get(\"image_file\").get(\"file_id\")\n",
        "\n",
        "                print(f\"{assist_msg}  ファイルID:{image_fileid}\")\n",
        "\n",
        "            if cont_dict.get(\"text\") is not None:\n",
        "\n",
        "                assist_msg = cont_dict.get(\"text\").get(\"value\")\n",
        "\n",
        "                print(assist_msg)\n",
        "\n",
        "    else:\n",
        "\n",
        "        print(msg.content[0].text.value)\n",
        "\n",
        "\n"
      ]
    },
    {
      "cell_type": "markdown",
      "metadata": {
        "id": "yWlIXHr33V_z"
      },
      "source": [
        "### **2-4 ファイルのダウンロード**"
      ]
    },
    {
      "cell_type": "code",
      "execution_count": null,
      "metadata": {
        "id": "bHB3Ceg_B1Rt"
      },
      "outputs": [],
      "source": [
        "# ファイルがある場合ダウンロード\n",
        "image_fileid = 'file-Qi0N5wOJbz6S7oywOXS1LYHK'\n",
        "\n",
        "retrieve_file = client.files.with_raw_response.retrieve_content(image_fileid)\n",
        "\n",
        "content = retrieve_file.content\n",
        "\n",
        "with open(file_id + \".png\", 'wb') as f:\n",
        "    f.write(content)"
      ]
    },
    {
      "cell_type": "markdown",
      "metadata": {
        "id": "8i6kGkTByF3_"
      },
      "source": [
        "# **注釈ファイルの取得<br>**\n",
        "## **※画像ファイル以外の取得**"
      ]
    },
    {
      "cell_type": "markdown",
      "metadata": {
        "id": "7_Vrqw87-Cfr"
      },
      "source": [
        "### **※1-1～1-3は同じです<br>3-1 annotationsの取得**"
      ]
    },
    {
      "cell_type": "code",
      "execution_count": null,
      "metadata": {
        "id": "fbZvngme5SfZ"
      },
      "outputs": [],
      "source": [
        "# メッセージの表示\n",
        "for msg in messages:\n",
        "\n",
        "    print(msg.role + \"：\")\n",
        "\n",
        "    if msg.role == \"assistant\":\n",
        "\n",
        "        for content in msg.content:\n",
        "\n",
        "            image_fileid = \"\"\n",
        "            assist_msg = \"\"\n",
        "\n",
        "            cont_dict = content.model_dump()  # 辞書型に変換\n",
        "\n",
        "            # 注釈（参照ファイル）ががある場合取得\n",
        "            if len(cont_dict.get(\"text\").get(\"annotations\")) > 0:\n",
        "\n",
        "                ct_ant = cont_dict.get(\"text\").get(\"annotations\")\n",
        "\n",
        "                for ant in ct_ant:\n",
        "\n",
        "                    if ant.get(\"file_path\") is not None:\n",
        "\n",
        "                        # 参照ファイルのID取得\n",
        "                        ant_file_id = ct_ant[0].get(\"file_path\").get(\"file_id\")\n",
        "\n",
        "                        if ant.get(\"text\") is not None:\n",
        "\n",
        "                            # ファイル形式（拡張子）取得\n",
        "                            ext = \".\" + ct_ant[0].get(\"text\")[ct_ant[0].get(\"text\").rfind('.') + 1:]\n",
        "\n",
        "                            print(f\"file_id:{ant_file_id} ファイル形式:{ext}\")"
      ]
    },
    {
      "cell_type": "code",
      "execution_count": null,
      "metadata": {
        "id": "tecc05Y47aJY"
      },
      "outputs": [],
      "source": [
        "ant_file_id = 'file-9reyyvBUPQiI8B7O2QPmZlGP'\n",
        "\n",
        "ext = \".txt\"\n",
        "\n",
        "retrieve_file = client.files.with_raw_response.retrieve_content(ant_file_id)\n",
        "\n",
        "content = retrieve_file.content\n",
        "\n",
        "with open(file_id + ext, 'wb') as f:\n",
        "    f.write(content)"
      ]
    }
  ],
  "metadata": {
    "colab": {
      "include_colab_link": true,
      "provenance": []
    },
    "kernelspec": {
      "display_name": "Python 3",
      "name": "python3"
    },
    "language_info": {
      "name": "python"
    }
  },
  "nbformat": 4,
  "nbformat_minor": 0
}
