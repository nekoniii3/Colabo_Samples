{
  "nbformat": 4,
  "nbformat_minor": 0,
  "metadata": {
    "colab": {
      "provenance": [],
      "include_colab_link": true
    },
    "kernelspec": {
      "name": "python3",
      "display_name": "Python 3"
    },
    "language_info": {
      "name": "python"
    }
  },
  "cells": [
    {
      "cell_type": "markdown",
      "metadata": {
        "id": "view-in-github",
        "colab_type": "text"
      },
      "source": [
        "<a href=\"https://colab.research.google.com/github/nekoniii3/Colabo_Samples/blob/main/022_Code_Interpreter/GPT_Code_Interpreter_Sample.ipynb\" target=\"_parent\"><img src=\"https://colab.research.google.com/assets/colab-badge.svg\" alt=\"Open In Colab\"/></a>"
      ]
    },
    {
      "cell_type": "markdown",
      "source": [
        "## **準備：OpenAIパッケージのインストール**"
      ],
      "metadata": {
        "id": "Jsd5j2R9Q0r8"
      }
    },
    {
      "cell_type": "code",
      "execution_count": null,
      "metadata": {
        "id": "f8t17cXsYY8h"
      },
      "outputs": [],
      "source": [
        "!pip install openai"
      ]
    },
    {
      "cell_type": "markdown",
      "source": [
        "# **①メッセージのみのやり取り（ファイル無し）**"
      ],
      "metadata": {
        "id": "eXsD2-Xoxlj9"
      }
    },
    {
      "cell_type": "markdown",
      "source": [
        "### **1-1 OpenAI接続**"
      ],
      "metadata": {
        "id": "i-lyZHEuyX0k"
      }
    },
    {
      "cell_type": "code",
      "source": [
        "from openai import OpenAI\n",
        "import os\n",
        "\n",
        "# APKIキーのセットとクライアント接続\n",
        "os.environ[\"OPENAI_API_KEY\"] = 'sk-XXXXXXXXXXXXXXXXXXXXXXXXXXXXXXXXX'\n",
        "\n",
        "client = OpenAI()"
      ],
      "metadata": {
        "id": "koFQmMSxYvtn"
      },
      "execution_count": null,
      "outputs": []
    },
    {
      "cell_type": "markdown",
      "source": [
        "### **1-2 アシスタント作成 ※作成は1度で大丈夫です**"
      ],
      "metadata": {
        "id": "l8-Rg70JyfFG"
      }
    },
    {
      "cell_type": "code",
      "source": [
        "assistant = client.beta.assistants.create(\n",
        "  name=\"\",\n",
        "  instructions=\"あなたは優秀なアシスタントです。質問をされた場合は、質問に答えるコードを作成して実行します。\",\n",
        "  # model=\"gpt-4-1106-preview\",\n",
        "  model=\"gpt-3.5-turbo-1106\",   # Code Interpreterはどのモデルでも大丈夫です\n",
        "  tools=[{\"type\": \"code_interpreter\"}]\n",
        ")\n",
        "\n",
        "assistant_id = assistant.id\n",
        "\n",
        "print(assistant_id)"
      ],
      "metadata": {
        "id": "Mp3gL3irySrX"
      },
      "execution_count": null,
      "outputs": []
    },
    {
      "cell_type": "markdown",
      "source": [
        "### **※アシスタントが既にあればIDをセット**"
      ],
      "metadata": {
        "id": "IVhc9CP7y5Uo"
      }
    },
    {
      "cell_type": "code",
      "source": [
        "assistant_id = \"asst_XXXXXXXXXXXXXXXXXXXXXXXXX\""
      ],
      "metadata": {
        "id": "RSLJhlcKkJvV"
      },
      "execution_count": null,
      "outputs": []
    },
    {
      "cell_type": "markdown",
      "source": [
        "### **1-3 スレッドの作成**"
      ],
      "metadata": {
        "id": "NontZnByzLH2"
      }
    },
    {
      "cell_type": "code",
      "source": [
        "# スレッドの作成\n",
        "thread = client.beta.threads.create()"
      ],
      "metadata": {
        "id": "D7BRe8JSgiBE"
      },
      "execution_count": null,
      "outputs": []
    },
    {
      "cell_type": "markdown",
      "source": [
        "### **1-4 アシスタントへの問い合わせ**"
      ],
      "metadata": {
        "id": "2LIGi9Vk1smI"
      }
    },
    {
      "cell_type": "code",
      "source": [
        "# 問い合わせ内容をセット\n",
        "prompt = \"こんにちは！\"\n",
        "\n",
        "# メッセージの作成\n",
        "message = client.beta.threads.messages.create(\n",
        "    thread_id=thread.id,\n",
        "    role=\"user\",\n",
        "    content=prompt,\n",
        "    # file_ids=[file_id]\n",
        ")"
      ],
      "metadata": {
        "id": "97pi9RRQa1kb"
      },
      "execution_count": null,
      "outputs": []
    },
    {
      "cell_type": "code",
      "source": [
        "# RUNスタート（アシスタントへ問い合わせ）\n",
        "run = client.beta.threads.runs.create(\n",
        "  thread_id=thread.id,\n",
        "  assistant_id=assistant_id\n",
        "  # instructions=\"\"  # ここに新たにinstructionを入れることも可能\n",
        ")"
      ],
      "metadata": {
        "id": "u8Y-HdDgg-tI"
      },
      "execution_count": null,
      "outputs": []
    },
    {
      "cell_type": "markdown",
      "source": [
        "### **1-4 RUNの状態確認とメッセージの受け取り**"
      ],
      "metadata": {
        "id": "yRssj1zA02sS"
      }
    },
    {
      "cell_type": "code",
      "source": [
        "# スレッドの実行状態を受け取る\n",
        "run = client.beta.threads.runs.retrieve(\n",
        "  thread_id=thread.id,\n",
        "  run_id=run.id\n",
        ")\n",
        "\n",
        "# 状態を確認（completeで完了）\n",
        "print(run.status)"
      ],
      "metadata": {
        "id": "o-k7_JNRjmcU"
      },
      "execution_count": null,
      "outputs": []
    },
    {
      "cell_type": "code",
      "source": [
        "# メッセージを取得\n",
        "messages = client.beta.threads.messages.list(\n",
        "  thread_id=thread.id,\n",
        "  order = \"asc\",    # 昇順\n",
        "  # after = \"\",   # これで前回以降のメッセージなど抽出が可能\n",
        ")"
      ],
      "metadata": {
        "id": "Ql8o7XzqjpKy"
      },
      "execution_count": null,
      "outputs": []
    },
    {
      "cell_type": "code",
      "source": [
        "# メッセージの表示（※テキストのみ、画像がある場合エラーとなる恐れがあります）\n",
        "for msg in messages:\n",
        "    print(msg.role + \"：\" + msg.content[0].text.value)"
      ],
      "metadata": {
        "id": "cNMK7ueuwTkG"
      },
      "execution_count": null,
      "outputs": []
    },
    {
      "cell_type": "markdown",
      "source": [
        "# **②ファイルがある場合のやり取り**"
      ],
      "metadata": {
        "id": "MCJr_rIzxxY0"
      }
    },
    {
      "cell_type": "markdown",
      "source": [
        "### **※1-1～1-3は同じです<br>2-1 ファイルのアップ**"
      ],
      "metadata": {
        "id": "OX_Y7qsQ1Rnb"
      }
    },
    {
      "cell_type": "code",
      "source": [
        "# ファイルのアップ\n",
        "file_response = client.files.create(\n",
        "    purpose=\"assistants\",\n",
        "    file=open(\"ファイル名.csv\",\"rb\"),\n",
        ")\n",
        "\n",
        "# IDの取得\n",
        "file_id = file_response.id\n",
        "\n",
        "print(file_id)"
      ],
      "metadata": {
        "id": "c2ZMouklE8hx"
      },
      "execution_count": null,
      "outputs": []
    },
    {
      "cell_type": "markdown",
      "source": [
        "### **2-2 ファイルをセットして、アシスタントへの問い合わせ**"
      ],
      "metadata": {
        "id": "-ok7bAYm2YHV"
      }
    },
    {
      "cell_type": "code",
      "source": [
        "prompt = \"これは○○のデータです。折れ線グラフでデータの可視化をお願いします。\"\n",
        "\n",
        "# メッセージの作成\n",
        "message = client.beta.threads.messages.create(\n",
        "    thread_id=thread.id,\n",
        "    role=\"user\",\n",
        "    content=prompt,\n",
        "    file_ids=[file_id]    # ※ファイルはLISTで複数も可能\n",
        ")"
      ],
      "metadata": {
        "id": "Xj3k_m4lIp1i"
      },
      "execution_count": null,
      "outputs": []
    },
    {
      "cell_type": "code",
      "source": [
        "# スレッドの実行\n",
        "run = client.beta.threads.runs.create(\n",
        "  thread_id=thread.id,\n",
        "  assistant_id=assistant_id\n",
        "  # instructions=\"\"  # ここに新たにinstructionを入れることも可能\n",
        ")"
      ],
      "metadata": {
        "id": "3L2H2wRrI15a"
      },
      "execution_count": null,
      "outputs": []
    },
    {
      "cell_type": "markdown",
      "source": [
        "### **2-3 RUNの状態確認とメッセージの受け取り**"
      ],
      "metadata": {
        "id": "RXHGhMZ42wjW"
      }
    },
    {
      "cell_type": "code",
      "source": [
        "# スレッドの実行状態を受け取る\n",
        "run = client.beta.threads.runs.retrieve(\n",
        "  thread_id=thread.id,\n",
        "  run_id=run.id\n",
        ")\n",
        "\n",
        "print(run.status)"
      ],
      "metadata": {
        "id": "QPnEoHjC1VqW"
      },
      "execution_count": null,
      "outputs": []
    },
    {
      "cell_type": "code",
      "source": [
        "# メッセージを取得\n",
        "messages = client.beta.threads.messages.list(\n",
        "  thread_id=thread.id,\n",
        "  order = \"asc\"\n",
        ")"
      ],
      "metadata": {
        "id": "asrt8UlKJIAX"
      },
      "execution_count": null,
      "outputs": []
    },
    {
      "cell_type": "code",
      "source": [
        "# メッセージの表示\n",
        "for msg in messages:\n",
        "\n",
        "    print(msg.role + \"：\")\n",
        "\n",
        "    if msg.role == \"assistant\":\n",
        "\n",
        "        for content in msg.content:\n",
        "\n",
        "            image_fileid = \"\"\n",
        "            assist_msg = \"\"\n",
        "\n",
        "            cont_dict = content.model_dump()  # 辞書型に変換\n",
        "\n",
        "            if cont_dict.get(\"image_file\") is not None:\n",
        "\n",
        "                image_fileid = cont_dict.get(\"image_file\").get(\"file_id\")\n",
        "\n",
        "                print(f\"{assist_msg}  ファイルID:{image_fileid}\")\n",
        "\n",
        "            if cont_dict.get(\"text\") is not None:\n",
        "\n",
        "                assist_msg = cont_dict.get(\"text\").get(\"value\")\n",
        "\n",
        "                print(assist_msg)\n",
        "\n",
        "    else:\n",
        "\n",
        "        print(msg.content[0].text.value)\n",
        "\n",
        "\n"
      ],
      "metadata": {
        "id": "RlGjh_Q4JPft"
      },
      "execution_count": null,
      "outputs": []
    },
    {
      "cell_type": "markdown",
      "source": [
        "### **2-4 ファイルのダウンロード**"
      ],
      "metadata": {
        "id": "yWlIXHr33V_z"
      }
    },
    {
      "cell_type": "code",
      "source": [
        "# ファイルがある場合ダウンロード\n",
        "image_fileid = 'file-Qi0N5wOJbz6S7oywOXS1LYHK'\n",
        "\n",
        "retrieve_file = client.files.with_raw_response.retrieve_content(image_fileid)\n",
        "\n",
        "content = retrieve_file.content\n",
        "\n",
        "with open(file_id + \".png\", 'wb') as f:\n",
        "    f.write(content)"
      ],
      "metadata": {
        "id": "bHB3Ceg_B1Rt"
      },
      "execution_count": null,
      "outputs": []
    },
    {
      "cell_type": "markdown",
      "source": [
        "# **注釈ファイルの取得<br>**\n",
        "## **※画像ファイル以外の取得**"
      ],
      "metadata": {
        "id": "8i6kGkTByF3_"
      }
    },
    {
      "cell_type": "markdown",
      "source": [
        "### **※1-1～1-3は同じです<br>3-1 annotationsの取得**"
      ],
      "metadata": {
        "id": "7_Vrqw87-Cfr"
      }
    },
    {
      "cell_type": "code",
      "source": [
        "# メッセージの表示\n",
        "for msg in messages:\n",
        "\n",
        "    print(msg.role + \"：\")\n",
        "\n",
        "    if msg.role == \"assistant\":\n",
        "\n",
        "        for content in msg.content:\n",
        "\n",
        "            image_fileid = \"\"\n",
        "            assist_msg = \"\"\n",
        "\n",
        "            cont_dict = content.model_dump()  # 辞書型に変換\n",
        "\n",
        "            # 注釈（参照ファイル）ががある場合取得\n",
        "            if len(cont_dict.get(\"text\").get(\"annotations\")) > 0:\n",
        "\n",
        "                ct_ant = cont_dict.get(\"text\").get(\"annotations\")\n",
        "\n",
        "                for ant in ct_ant:\n",
        "\n",
        "                    if ant.get(\"file_path\") is not None:\n",
        "\n",
        "                        # 参照ファイルのID取得\n",
        "                        ant_file_id = ct_ant[0].get(\"file_path\").get(\"file_id\")\n",
        "\n",
        "                        if ant.get(\"text\") is not None:\n",
        "\n",
        "                            # ファイル形式（拡張子）取得\n",
        "                            ext = \".\" + ct_ant[0].get(\"text\")[ct_ant[0].get(\"text\").rfind('.') + 1:]\n",
        "\n",
        "                            print(f\"file_id:{ant_file_id} ファイル形式:{ext}\")"
      ],
      "metadata": {
        "id": "fbZvngme5SfZ"
      },
      "execution_count": null,
      "outputs": []
    },
    {
      "cell_type": "code",
      "source": [
        "ant_file_id = 'file-9reyyvBUPQiI8B7O2QPmZlGP'\n",
        "\n",
        "ext = \".txt\"\n",
        "\n",
        "retrieve_file = client.files.with_raw_response.retrieve_content(ant_file_id)\n",
        "\n",
        "content = retrieve_file.content\n",
        "\n",
        "with open(file_id + ext, 'wb') as f:\n",
        "    f.write(content)"
      ],
      "metadata": {
        "id": "tecc05Y47aJY"
      },
      "execution_count": null,
      "outputs": []
    }
  ]
}